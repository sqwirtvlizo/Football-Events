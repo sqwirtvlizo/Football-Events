{
 "cells": [
  {
   "cell_type": "markdown",
   "id": "ce090555",
   "metadata": {
    "id": "ce090555"
   },
   "source": [
    "Индивидуальный проект: **Football Events**\n",
    "\n",
    "Автор: **Кононенко Евгений 0391**\n",
    "\n",
    "Проверяющий: **Каскырбай Даулет**\n",
    "\n",
    "Ссылка на датасет: https://www.kaggle.com/datasets/secareanualin/football-events"
   ]
  },
  {
   "cell_type": "markdown",
   "id": "de16fd54",
   "metadata": {
    "id": "de16fd54"
   },
   "source": [
    "### Примерный план (подстроить план под вашу задачу)\n",
    "1. Цель и задачи исследования\n",
    "2. Описание набора данных\n",
    "3. Разведочный анализ данных (англ. exploratory data analysis, EDA) + визуализация\n",
    "4. Генерация и селекция признаков + нормализация\n",
    "5. Исключение аномалий, заполнение пропусков в данных и.т.д.\n",
    "6. Очистка данных от шума\n",
    "7. Выбор метода/алгоритма, модели, архитектуры (для НС)\n",
    "8. Настройка гиперпараметров (для НС), выбор параметров метода/алгоритма\n",
    "9. Выбор метрики оценки качества (RMSE, R^2)\n",
    "10. Генерация наборов для обучения, тестирования и валидации\n",
    "11. Развертывание и работа модели, визуализация результатов\n",
    "12. Выводы"
   ]
  },
  {
   "cell_type": "markdown",
   "id": "51f24c93",
   "metadata": {
    "id": "51f24c93"
   },
   "source": [
    "## 1. Цель и задачи исследования"
   ]
  },
  {
   "cell_type": "markdown",
   "id": "5366ec07",
   "metadata": {
    "id": "5366ec07"
   },
   "source": [
    "## Задача \n",
    "**Какова вероятность того, что бросок будет забит, учитывая его местоположение, спротсмена, лигу, метод передачи, состояние игры, количество игроков на поле, время?**\n",
    "\n",
    "### Почему такакя задача показалась Вам интересной?\n",
    "\n",
    "Я занимался футболом около пяти лет, играя за сборную своего города. Мне показалась эта задача очень даже интересной, потому что при правильном анализе можно будет:\n",
    "- Создавать прогностические модели для футбольных игр, чтобы делать ставки на футбольные исходы.\n",
    "- Визуализировать предстоящие игры\n",
    "- Строить модели ожидаемых голов и сравнивать игроков\n",
    "\n",
    "\n",
    "\n",
    "\n",
    "С помощью этого набора данных можно также ответить на множество интересных вопросов. Например:\n",
    "\n",
    "- Какова стоимость удара? Или какова вероятность того, что после удара гол будет забит, учитывая его местонахождение, бьющего игрока, лигу, тип передачи, состояние игры, количество игроков на поле, время — известные как модели ожидаемого количества голов (xG)\n",
    "- Когда команды чаще забивают?\n",
    "- Какие команды лучше или хуже всех удерживают лидерство?\n",
    "- Какие команды или игроки лучше всего используют стандартные положения?\n",
    "- В каких лигах судья чаще дает карточку?\n",
    "- Как игроки сравнивают, когда они бьют ведущей ногой и неведущей ногой? Или какие игроки симметричны в этом плане?\n",
    "- Определить различные стили игры (удары с дальней дистанции и удары из штрафной площади, навесы и передачи мяча, удары головой)\n",
    "- У каких команд есть склонность к атаке на том или ином фланге?"
   ]
  },
  {
   "cell_type": "markdown",
   "id": "57b965b9",
   "metadata": {
    "id": "57b965b9"
   },
   "source": [
    "## 2. Описание набора данных"
   ]
  },
  {
   "cell_type": "markdown",
   "id": "b377565b",
   "metadata": {
    "id": "b377565b"
   },
   "source": [
    "Данные взяты из: \n",
    "\n",
    "[https://www.kaggle.com/datasets/secareanualin/football-events](_____)\n"
   ]
  },
  {
   "cell_type": "markdown",
   "id": "05c68209",
   "metadata": {
    "id": "05c68209"
   },
   "source": [
    "### Описание данных"
   ]
  },
  {
   "cell_type": "markdown",
   "id": "5ee1cfc9",
   "metadata": {
    "id": "5ee1cfc9"
   },
   "source": [
    "\n",
    "### Набор данных организован в 3 файлах:\n",
    "- events.csv содержит данные о событиях каждой игры. \n",
    "- gif.csv — содержит метаданные и рыночные коэффициенты для каждой игры.\n",
    "- Dictionary.txt содержит словарь с текстовым описанием каждой категориальной переменной, закодированной целыми числами.\n",
    "\n",
    "\n",
    "###  Выборка включает 40 записей.\n",
    "- Количественные переменные:\n",
    "    - **event_type** - тип события(фол, карточка, пенальти,игра рукой и т.п.)\n",
    "    - **shot_place** - куда летел удар\n",
    "    - **shot_outcome** - исход удара\n",
    "    - **is_goal** - забит ли гол (Целевая переменная)\n",
    "    - **location** - расположение\n",
    "    - **assist_method** - с помощью чего был реализован момент(пасс, передача в разрез и т.п.)\n",
    "   \n",
    "- Категориальные переменные:\n",
    "    - **situation** - ситуация\n",
    "    - **bodypart** - часть тела\n",
    "    - **fast_break** - команда пытается как можно быстрее переместить мяч вверх и в нужную позицию, чтобы защита была в меньшенстве и не успела за мячом\n",
    "  "
   ]
  },
  {
   "cell_type": "markdown",
   "id": "A1rXFIN0vQQk",
   "metadata": {
    "id": "A1rXFIN0vQQk"
   },
   "source": [
    "##  3. Разведочный анализ данных (англ. exploratory data analysis, EDA) + визуализация\n"
   ]
  },
  {
   "cell_type": "markdown",
   "id": "e6067604",
   "metadata": {},
   "source": [
    "Импорт библиотек"
   ]
  },
  {
   "cell_type": "code",
   "execution_count": 1,
   "id": "df5fe167",
   "metadata": {},
   "outputs": [],
   "source": [
    "import pandas as pd\n",
    "pd.options.mode.chained_assignment = None  \n",
    "import numpy as np\n",
    "import matplotlib.pyplot as plt\n",
    "import scipy as sp\n",
    "from sklearn.ensemble import GradientBoostingClassifier\n",
    "from sklearn.linear_model import LogisticRegression\n",
    "from sklearn.neural_network import MLPClassifier\n",
    "from sklearn.metrics import average_precision_score, roc_auc_score, f1_score, precision_score, \\\n",
    "recall_score, cohen_kappa_score, classification_report,confusion_matrix\n",
    "from sklearn.model_selection import train_test_split\n",
    "import seaborn as sns\n",
    "from datetime import datetime\n",
    "from sklearn.preprocessing import StandardScaler\n",
    "pd.options.display.max_columns = 999\n",
    "pd.options.display.max_rows = 50\n",
    "\n",
    "class color:\n",
    "   PURPLE = '\\033[95m'\n",
    "   CYAN = '\\033[96m'\n",
    "   DARKCYAN = '\\033[36m'\n",
    "   BLUE = '\\033[94m'\n",
    "   GREEN = '\\033[92m'\n",
    "   YELLOW = '\\033[93m'\n",
    "   RED = '\\033[91m'\n",
    "   BOLD = '\\033[1m'\n",
    "   UNDERLINE = '\\033[4m'\n",
    "   END = '\\033[0m'"
   ]
  },
  {
   "cell_type": "markdown",
   "id": "993c3c2a",
   "metadata": {},
   "source": [
    "Выгрузка данных"
   ]
  },
  {
   "cell_type": "code",
   "execution_count": 2,
   "id": "bcf4a487",
   "metadata": {},
   "outputs": [],
   "source": [
    "events = pd.read_csv('events.csv')\n",
    "info = pd.read_csv('ginf.csv')"
   ]
  },
  {
   "cell_type": "markdown",
   "id": "efa7581f",
   "metadata": {},
   "source": [
    "Достанем из файла ginf.csv лигу/страну и дату"
   ]
  },
  {
   "cell_type": "code",
   "execution_count": 3,
   "id": "f5430f8c",
   "metadata": {},
   "outputs": [],
   "source": [
    "events = events.merge(info[['id_odsp', 'country', 'date']], on='id_odsp', how='left')\n",
    "extract_year = lambda x: datetime.strptime(x, \"%Y-%m-%d\").year\n",
    "events['year'] = [extract_year(x) for key, x in enumerate(events['date'])]\n",
    "events['is_goal'] = (events['is_goal']).astype('bool')"
   ]
  },
  {
   "cell_type": "markdown",
   "id": "fe4b59be",
   "metadata": {},
   "source": [
    "Создадим датасэт на основе events - shots, только shots будет содержать в себе удары, а не все события подряд"
   ]
  },
  {
   "cell_type": "code",
   "execution_count": 4,
   "id": "496986c7",
   "metadata": {},
   "outputs": [],
   "source": [
    "shots = events[events.event_type == 1]\n",
    "shots['player'] = shots['player'].str.title()\n",
    "shots['player2'] = shots['player2'].str.title()\n",
    "shots['country'] = shots['country'].str.title()"
   ]
  },
  {
   "cell_type": "code",
   "execution_count": 5,
   "id": "a13fde6a",
   "metadata": {},
   "outputs": [
    {
     "data": {
      "text/html": [
       "<div>\n",
       "<style scoped>\n",
       "    .dataframe tbody tr th:only-of-type {\n",
       "        vertical-align: middle;\n",
       "    }\n",
       "\n",
       "    .dataframe tbody tr th {\n",
       "        vertical-align: top;\n",
       "    }\n",
       "\n",
       "    .dataframe thead th {\n",
       "        text-align: right;\n",
       "    }\n",
       "</style>\n",
       "<table border=\"1\" class=\"dataframe\">\n",
       "  <thead>\n",
       "    <tr style=\"text-align: right;\">\n",
       "      <th></th>\n",
       "      <th>id_odsp</th>\n",
       "      <th>id_event</th>\n",
       "      <th>sort_order</th>\n",
       "      <th>time</th>\n",
       "      <th>text</th>\n",
       "      <th>event_type</th>\n",
       "      <th>event_type2</th>\n",
       "      <th>side</th>\n",
       "      <th>event_team</th>\n",
       "      <th>opponent</th>\n",
       "      <th>player</th>\n",
       "      <th>player2</th>\n",
       "      <th>player_in</th>\n",
       "      <th>player_out</th>\n",
       "      <th>shot_place</th>\n",
       "      <th>shot_outcome</th>\n",
       "      <th>is_goal</th>\n",
       "      <th>location</th>\n",
       "      <th>bodypart</th>\n",
       "      <th>assist_method</th>\n",
       "      <th>situation</th>\n",
       "      <th>fast_break</th>\n",
       "      <th>country</th>\n",
       "      <th>date</th>\n",
       "      <th>year</th>\n",
       "    </tr>\n",
       "  </thead>\n",
       "  <tbody>\n",
       "    <tr>\n",
       "      <th>0</th>\n",
       "      <td>UFot0hit/</td>\n",
       "      <td>UFot0hit1</td>\n",
       "      <td>1</td>\n",
       "      <td>2</td>\n",
       "      <td>Attempt missed. Mladen Petric (Hamburg) left f...</td>\n",
       "      <td>1</td>\n",
       "      <td>12.0</td>\n",
       "      <td>2</td>\n",
       "      <td>Hamburg SV</td>\n",
       "      <td>Borussia Dortmund</td>\n",
       "      <td>Mladen Petric</td>\n",
       "      <td>Gokhan Tore</td>\n",
       "      <td>NaN</td>\n",
       "      <td>NaN</td>\n",
       "      <td>6.0</td>\n",
       "      <td>2.0</td>\n",
       "      <td>False</td>\n",
       "      <td>9.0</td>\n",
       "      <td>2.0</td>\n",
       "      <td>1</td>\n",
       "      <td>1.0</td>\n",
       "      <td>0</td>\n",
       "      <td>Germany</td>\n",
       "      <td>2011-08-05</td>\n",
       "      <td>2011</td>\n",
       "    </tr>\n",
       "    <tr>\n",
       "      <th>11</th>\n",
       "      <td>UFot0hit/</td>\n",
       "      <td>UFot0hit12</td>\n",
       "      <td>12</td>\n",
       "      <td>14</td>\n",
       "      <td>Attempt missed. Shinji Kagawa (Borussia Dortmu...</td>\n",
       "      <td>1</td>\n",
       "      <td>12.0</td>\n",
       "      <td>1</td>\n",
       "      <td>Borussia Dortmund</td>\n",
       "      <td>Hamburg SV</td>\n",
       "      <td>Shinji Kagawa</td>\n",
       "      <td>Mario Gotze</td>\n",
       "      <td>NaN</td>\n",
       "      <td>NaN</td>\n",
       "      <td>13.0</td>\n",
       "      <td>2.0</td>\n",
       "      <td>False</td>\n",
       "      <td>15.0</td>\n",
       "      <td>1.0</td>\n",
       "      <td>1</td>\n",
       "      <td>1.0</td>\n",
       "      <td>0</td>\n",
       "      <td>Germany</td>\n",
       "      <td>2011-08-05</td>\n",
       "      <td>2011</td>\n",
       "    </tr>\n",
       "    <tr>\n",
       "      <th>13</th>\n",
       "      <td>UFot0hit/</td>\n",
       "      <td>UFot0hit14</td>\n",
       "      <td>14</td>\n",
       "      <td>17</td>\n",
       "      <td>Goal!  Borussia Dortmund 1, Hamburg 0. Kevin G...</td>\n",
       "      <td>1</td>\n",
       "      <td>12.0</td>\n",
       "      <td>1</td>\n",
       "      <td>Borussia Dortmund</td>\n",
       "      <td>Hamburg SV</td>\n",
       "      <td>Kevin Grosskreutz</td>\n",
       "      <td>Mario Gotze</td>\n",
       "      <td>NaN</td>\n",
       "      <td>NaN</td>\n",
       "      <td>4.0</td>\n",
       "      <td>1.0</td>\n",
       "      <td>True</td>\n",
       "      <td>9.0</td>\n",
       "      <td>2.0</td>\n",
       "      <td>1</td>\n",
       "      <td>1.0</td>\n",
       "      <td>0</td>\n",
       "      <td>Germany</td>\n",
       "      <td>2011-08-05</td>\n",
       "      <td>2011</td>\n",
       "    </tr>\n",
       "    <tr>\n",
       "      <th>14</th>\n",
       "      <td>UFot0hit/</td>\n",
       "      <td>UFot0hit15</td>\n",
       "      <td>15</td>\n",
       "      <td>19</td>\n",
       "      <td>Attempt blocked. Mats Hummels (Borussia Dortmu...</td>\n",
       "      <td>1</td>\n",
       "      <td>NaN</td>\n",
       "      <td>1</td>\n",
       "      <td>Borussia Dortmund</td>\n",
       "      <td>Hamburg SV</td>\n",
       "      <td>Mats Hummels</td>\n",
       "      <td>NaN</td>\n",
       "      <td>NaN</td>\n",
       "      <td>NaN</td>\n",
       "      <td>2.0</td>\n",
       "      <td>3.0</td>\n",
       "      <td>False</td>\n",
       "      <td>15.0</td>\n",
       "      <td>1.0</td>\n",
       "      <td>0</td>\n",
       "      <td>1.0</td>\n",
       "      <td>0</td>\n",
       "      <td>Germany</td>\n",
       "      <td>2011-08-05</td>\n",
       "      <td>2011</td>\n",
       "    </tr>\n",
       "  </tbody>\n",
       "</table>\n",
       "</div>"
      ],
      "text/plain": [
       "      id_odsp    id_event  sort_order  time  \\\n",
       "0   UFot0hit/   UFot0hit1           1     2   \n",
       "11  UFot0hit/  UFot0hit12          12    14   \n",
       "13  UFot0hit/  UFot0hit14          14    17   \n",
       "14  UFot0hit/  UFot0hit15          15    19   \n",
       "\n",
       "                                                 text  event_type  \\\n",
       "0   Attempt missed. Mladen Petric (Hamburg) left f...           1   \n",
       "11  Attempt missed. Shinji Kagawa (Borussia Dortmu...           1   \n",
       "13  Goal!  Borussia Dortmund 1, Hamburg 0. Kevin G...           1   \n",
       "14  Attempt blocked. Mats Hummels (Borussia Dortmu...           1   \n",
       "\n",
       "    event_type2  side         event_team           opponent  \\\n",
       "0          12.0     2         Hamburg SV  Borussia Dortmund   \n",
       "11         12.0     1  Borussia Dortmund         Hamburg SV   \n",
       "13         12.0     1  Borussia Dortmund         Hamburg SV   \n",
       "14          NaN     1  Borussia Dortmund         Hamburg SV   \n",
       "\n",
       "               player      player2 player_in player_out  shot_place  \\\n",
       "0       Mladen Petric  Gokhan Tore       NaN        NaN         6.0   \n",
       "11      Shinji Kagawa  Mario Gotze       NaN        NaN        13.0   \n",
       "13  Kevin Grosskreutz  Mario Gotze       NaN        NaN         4.0   \n",
       "14       Mats Hummels          NaN       NaN        NaN         2.0   \n",
       "\n",
       "    shot_outcome  is_goal  location  bodypart  assist_method  situation  \\\n",
       "0            2.0    False       9.0       2.0              1        1.0   \n",
       "11           2.0    False      15.0       1.0              1        1.0   \n",
       "13           1.0     True       9.0       2.0              1        1.0   \n",
       "14           3.0    False      15.0       1.0              0        1.0   \n",
       "\n",
       "    fast_break  country        date  year  \n",
       "0            0  Germany  2011-08-05  2011  \n",
       "11           0  Germany  2011-08-05  2011  \n",
       "13           0  Germany  2011-08-05  2011  \n",
       "14           0  Germany  2011-08-05  2011  "
      ]
     },
     "execution_count": 5,
     "metadata": {},
     "output_type": "execute_result"
    }
   ],
   "source": [
    "shots.head(4)"
   ]
  },
  {
   "cell_type": "code",
   "execution_count": 6,
   "id": "34ad55a6",
   "metadata": {},
   "outputs": [
    {
     "data": {
      "text/html": [
       "<div>\n",
       "<style scoped>\n",
       "    .dataframe tbody tr th:only-of-type {\n",
       "        vertical-align: middle;\n",
       "    }\n",
       "\n",
       "    .dataframe tbody tr th {\n",
       "        vertical-align: top;\n",
       "    }\n",
       "\n",
       "    .dataframe thead th {\n",
       "        text-align: right;\n",
       "    }\n",
       "</style>\n",
       "<table border=\"1\" class=\"dataframe\">\n",
       "  <thead>\n",
       "    <tr style=\"text-align: right;\">\n",
       "      <th></th>\n",
       "      <th>sort_order</th>\n",
       "      <th>time</th>\n",
       "      <th>event_type</th>\n",
       "      <th>event_type2</th>\n",
       "      <th>side</th>\n",
       "      <th>shot_place</th>\n",
       "      <th>shot_outcome</th>\n",
       "      <th>location</th>\n",
       "      <th>bodypart</th>\n",
       "      <th>assist_method</th>\n",
       "      <th>situation</th>\n",
       "      <th>fast_break</th>\n",
       "      <th>year</th>\n",
       "    </tr>\n",
       "  </thead>\n",
       "  <tbody>\n",
       "    <tr>\n",
       "      <th>count</th>\n",
       "      <td>229135.000000</td>\n",
       "      <td>229135.000000</td>\n",
       "      <td>229135.0</td>\n",
       "      <td>168560.000000</td>\n",
       "      <td>229135.000000</td>\n",
       "      <td>227452.000000</td>\n",
       "      <td>228498.000000</td>\n",
       "      <td>229135.000000</td>\n",
       "      <td>229135.000000</td>\n",
       "      <td>229135.000000</td>\n",
       "      <td>229135.000000</td>\n",
       "      <td>229135.000000</td>\n",
       "      <td>229135.000000</td>\n",
       "    </tr>\n",
       "    <tr>\n",
       "      <th>mean</th>\n",
       "      <td>52.786497</td>\n",
       "      <td>49.223178</td>\n",
       "      <td>1.0</td>\n",
       "      <td>12.012476</td>\n",
       "      <td>1.444947</td>\n",
       "      <td>5.733641</td>\n",
       "      <td>1.926555</td>\n",
       "      <td>10.174295</td>\n",
       "      <td>1.624915</td>\n",
       "      <td>1.085264</td>\n",
       "      <td>1.281306</td>\n",
       "      <td>0.020023</td>\n",
       "      <td>2013.920222</td>\n",
       "    </tr>\n",
       "    <tr>\n",
       "      <th>std</th>\n",
       "      <td>31.758227</td>\n",
       "      <td>26.390206</td>\n",
       "      <td>0.0</td>\n",
       "      <td>0.193063</td>\n",
       "      <td>0.496961</td>\n",
       "      <td>3.326062</td>\n",
       "      <td>0.797055</td>\n",
       "      <td>5.225907</td>\n",
       "      <td>0.740432</td>\n",
       "      <td>0.934455</td>\n",
       "      <td>0.709386</td>\n",
       "      <td>0.140080</td>\n",
       "      <td>1.587440</td>\n",
       "    </tr>\n",
       "    <tr>\n",
       "      <th>min</th>\n",
       "      <td>1.000000</td>\n",
       "      <td>0.000000</td>\n",
       "      <td>1.0</td>\n",
       "      <td>12.000000</td>\n",
       "      <td>1.000000</td>\n",
       "      <td>1.000000</td>\n",
       "      <td>1.000000</td>\n",
       "      <td>3.000000</td>\n",
       "      <td>1.000000</td>\n",
       "      <td>0.000000</td>\n",
       "      <td>1.000000</td>\n",
       "      <td>0.000000</td>\n",
       "      <td>2011.000000</td>\n",
       "    </tr>\n",
       "    <tr>\n",
       "      <th>25%</th>\n",
       "      <td>26.000000</td>\n",
       "      <td>27.000000</td>\n",
       "      <td>1.0</td>\n",
       "      <td>12.000000</td>\n",
       "      <td>1.000000</td>\n",
       "      <td>2.000000</td>\n",
       "      <td>1.000000</td>\n",
       "      <td>3.000000</td>\n",
       "      <td>1.000000</td>\n",
       "      <td>0.000000</td>\n",
       "      <td>1.000000</td>\n",
       "      <td>0.000000</td>\n",
       "      <td>2013.000000</td>\n",
       "    </tr>\n",
       "    <tr>\n",
       "      <th>50%</th>\n",
       "      <td>51.000000</td>\n",
       "      <td>50.000000</td>\n",
       "      <td>1.0</td>\n",
       "      <td>12.000000</td>\n",
       "      <td>1.000000</td>\n",
       "      <td>5.000000</td>\n",
       "      <td>2.000000</td>\n",
       "      <td>11.000000</td>\n",
       "      <td>1.000000</td>\n",
       "      <td>1.000000</td>\n",
       "      <td>1.000000</td>\n",
       "      <td>0.000000</td>\n",
       "      <td>2014.000000</td>\n",
       "    </tr>\n",
       "    <tr>\n",
       "      <th>75%</th>\n",
       "      <td>78.000000</td>\n",
       "      <td>72.000000</td>\n",
       "      <td>1.0</td>\n",
       "      <td>12.000000</td>\n",
       "      <td>2.000000</td>\n",
       "      <td>9.000000</td>\n",
       "      <td>3.000000</td>\n",
       "      <td>15.000000</td>\n",
       "      <td>2.000000</td>\n",
       "      <td>2.000000</td>\n",
       "      <td>1.000000</td>\n",
       "      <td>0.000000</td>\n",
       "      <td>2015.000000</td>\n",
       "    </tr>\n",
       "    <tr>\n",
       "      <th>max</th>\n",
       "      <td>166.000000</td>\n",
       "      <td>100.000000</td>\n",
       "      <td>1.0</td>\n",
       "      <td>15.000000</td>\n",
       "      <td>2.000000</td>\n",
       "      <td>13.000000</td>\n",
       "      <td>4.000000</td>\n",
       "      <td>19.000000</td>\n",
       "      <td>3.000000</td>\n",
       "      <td>4.000000</td>\n",
       "      <td>4.000000</td>\n",
       "      <td>1.000000</td>\n",
       "      <td>2017.000000</td>\n",
       "    </tr>\n",
       "  </tbody>\n",
       "</table>\n",
       "</div>"
      ],
      "text/plain": [
       "          sort_order           time  event_type    event_type2           side  \\\n",
       "count  229135.000000  229135.000000    229135.0  168560.000000  229135.000000   \n",
       "mean       52.786497      49.223178         1.0      12.012476       1.444947   \n",
       "std        31.758227      26.390206         0.0       0.193063       0.496961   \n",
       "min         1.000000       0.000000         1.0      12.000000       1.000000   \n",
       "25%        26.000000      27.000000         1.0      12.000000       1.000000   \n",
       "50%        51.000000      50.000000         1.0      12.000000       1.000000   \n",
       "75%        78.000000      72.000000         1.0      12.000000       2.000000   \n",
       "max       166.000000     100.000000         1.0      15.000000       2.000000   \n",
       "\n",
       "          shot_place   shot_outcome       location       bodypart  \\\n",
       "count  227452.000000  228498.000000  229135.000000  229135.000000   \n",
       "mean        5.733641       1.926555      10.174295       1.624915   \n",
       "std         3.326062       0.797055       5.225907       0.740432   \n",
       "min         1.000000       1.000000       3.000000       1.000000   \n",
       "25%         2.000000       1.000000       3.000000       1.000000   \n",
       "50%         5.000000       2.000000      11.000000       1.000000   \n",
       "75%         9.000000       3.000000      15.000000       2.000000   \n",
       "max        13.000000       4.000000      19.000000       3.000000   \n",
       "\n",
       "       assist_method      situation     fast_break           year  \n",
       "count  229135.000000  229135.000000  229135.000000  229135.000000  \n",
       "mean        1.085264       1.281306       0.020023    2013.920222  \n",
       "std         0.934455       0.709386       0.140080       1.587440  \n",
       "min         0.000000       1.000000       0.000000    2011.000000  \n",
       "25%         0.000000       1.000000       0.000000    2013.000000  \n",
       "50%         1.000000       1.000000       0.000000    2014.000000  \n",
       "75%         2.000000       1.000000       0.000000    2015.000000  \n",
       "max         4.000000       4.000000       1.000000    2017.000000  "
      ]
     },
     "execution_count": 6,
     "metadata": {},
     "output_type": "execute_result"
    }
   ],
   "source": [
    "shots.describe()"
   ]
  },
  {
   "cell_type": "code",
   "execution_count": 7,
   "id": "12edcea1",
   "metadata": {},
   "outputs": [
    {
     "name": "stdout",
     "output_type": "stream",
     "text": [
      "<class 'pandas.core.frame.DataFrame'>\n",
      "Int64Index: 229135 entries, 0 to 941006\n",
      "Data columns (total 25 columns):\n",
      " #   Column         Non-Null Count   Dtype  \n",
      "---  ------         --------------   -----  \n",
      " 0   id_odsp        229135 non-null  object \n",
      " 1   id_event       229135 non-null  object \n",
      " 2   sort_order     229135 non-null  int64  \n",
      " 3   time           229135 non-null  int64  \n",
      " 4   text           229135 non-null  object \n",
      " 5   event_type     229135 non-null  int64  \n",
      " 6   event_type2    168560 non-null  float64\n",
      " 7   side           229135 non-null  int64  \n",
      " 8   event_team     229135 non-null  object \n",
      " 9   opponent       229135 non-null  object \n",
      " 10  player         229122 non-null  object \n",
      " 11  player2        167798 non-null  object \n",
      " 12  player_in      0 non-null       object \n",
      " 13  player_out     0 non-null       object \n",
      " 14  shot_place     227452 non-null  float64\n",
      " 15  shot_outcome   228498 non-null  float64\n",
      " 16  is_goal        229135 non-null  bool   \n",
      " 17  location       229135 non-null  float64\n",
      " 18  bodypart       229135 non-null  float64\n",
      " 19  assist_method  229135 non-null  int64  \n",
      " 20  situation      229135 non-null  float64\n",
      " 21  fast_break     229135 non-null  int64  \n",
      " 22  country        229135 non-null  object \n",
      " 23  date           229135 non-null  object \n",
      " 24  year           229135 non-null  int64  \n",
      "dtypes: bool(1), float64(6), int64(7), object(11)\n",
      "memory usage: 43.9+ MB\n"
     ]
    }
   ],
   "source": [
    "shots.info()"
   ]
  },
  {
   "cell_type": "code",
   "execution_count": 8,
   "id": "36b09fae",
   "metadata": {},
   "outputs": [
    {
     "name": "stdout",
     "output_type": "stream",
     "text": [
      "Общее количество ударо - 229135\n"
     ]
    },
    {
     "data": {
      "image/png": "[encoded data removed]",
      "text/plain": [
       "<Figure size 432x288 with 1 Axes>"
      ]
     },
     "metadata": {
      "needs_background": "light"
     },
     "output_type": "display_data"
    }
   ],
   "source": [
    "shots[\"is_goal\"].value_counts().plot(kind=\"bar\", label=\"Churn\")\n",
    "plt.legend()\n",
    "plt.title(\"Распределение голов\");\n",
    "print(\"Общее количество ударо -\", len(shots[\"is_goal\"]))"
   ]
  },
  {
   "cell_type": "markdown",
   "id": "eb743474",
   "metadata": {},
   "source": [
    "Имеем на **229135** удара всего **24441** гола"
   ]
  },
  {
   "cell_type": "code",
   "execution_count": 9,
   "id": "e9d2f6c8",
   "metadata": {},
   "outputs": [
    {
     "data": {
      "image/png": "[encoded data removed]",
      "text/plain": [
       "<Figure size 432x288 with 2 Axes>"
      ]
     },
     "metadata": {
      "needs_background": "light"
     },
     "output_type": "display_data"
    }
   ],
   "source": [
    "corr_matrix = shots.drop(\n",
    "    [\"id_odsp\", \"id_event\", \"sort_order\", \"text\",\"event_type2\"], axis=1\n",
    ").corr()\n",
    "sns.heatmap(corr_matrix);"
   ]
  },
  {
   "cell_type": "markdown",
   "id": "296e88c6",
   "metadata": {},
   "source": [
    "Давайте посмотрим, как распределяются различные возможные результаты выстрела."
   ]
  },
  {
   "cell_type": "code",
   "execution_count": 10,
   "id": "cb8c83d9",
   "metadata": {},
   "outputs": [],
   "source": [
    "pie = shots[['shot_outcome', 'id_event']].groupby('shot_outcome').count().reset_index().rename(columns={'id_event': 'count'})"
   ]
  },
  {
   "cell_type": "code",
   "execution_count": 11,
   "id": "b6607c44",
   "metadata": {},
   "outputs": [],
   "source": [
    "pie.shot_outcome = pie.shot_outcome.astype(int)\n",
    "pie.shot_outcome = pie.shot_outcome.replace({1: 'On Target', 2: 'Off Target', 3: 'Blocked', 4: 'Hit the Bar'})"
   ]
  },
  {
   "cell_type": "code",
   "execution_count": 12,
   "id": "3ea1b5ec",
   "metadata": {},
   "outputs": [
    {
     "data": {
      "image/png": "[encoded data removed]",
      "text/plain": [
       "<Figure size 576x576 with 1 Axes>"
      ]
     },
     "metadata": {},
     "output_type": "display_data"
    }
   ],
   "source": [
    "fig, ax = plt.subplots(figsize=[8,8])\n",
    "labels = pie['shot_outcome']\n",
    "colors = ['#ff9999','#66b3ff','#99ff99','#ffcc99']\n",
    "plt.pie(x=pie['count'], autopct=\"%.1f%%\", labels=labels, explode=[0.06]*4, pctdistance=0.7, colors=colors, shadow=True, \\\n",
    "       textprops=dict(fontsize=16))\n",
    "plt.title(\"Shot Outcomes\", fontsize=26, fontfamily='serif')\n",
    "plt.tight_layout()\n",
    "plt.show()"
   ]
  },
  {
   "cell_type": "markdown",
   "id": "3d4bd808",
   "metadata": {},
   "source": [
    "Мы видим, что большинство ударов не в цель, но разница с попаданием в цель не так велика. Конечно, только небольшая часть этих ударов по воротам заканчивается голами, потому что вратарь пытается предотвратить голы с другой стороны.\n",
    "\n",
    "Теперь давайте посмотрим, куда чаще всего наносят удары игроки."
   ]
  },
  {
   "cell_type": "code",
   "execution_count": 13,
   "id": "c702d754",
   "metadata": {},
   "outputs": [],
   "source": [
    "bar = shots[['shot_place', 'id_event']].groupby('shot_place').count().reset_index().rename(columns={'id_event': 'count'})\n",
    "bar.shot_place = bar.shot_place.astype(int)\n",
    "bar.shot_place = bar.shot_place.replace({1: 'Bit too high', 2: 'Blocked', 3: 'Bottom left corner', 4: 'Bottom right corner', \\\n",
    "                                        5: 'Centre of the goal', 6: 'High and wide', 7: 'Hits the bar', 8: 'Misses to the left', \\\n",
    "                                        9: 'Misses to the right', 10: 'Too high', 11: 'Top centre of the goal', \\\n",
    "                                        12: 'Top left corner', 13: 'Top right corner'})"
   ]
  },
  {
   "cell_type": "code",
   "execution_count": 14,
   "id": "513d8c10",
   "metadata": {},
   "outputs": [
    {
     "data": {
      "image/png": "[encoded data removed]",
      "text/plain": [
       "<Figure size 936x432 with 1 Axes>"
      ]
     },
     "metadata": {},
     "output_type": "display_data"
    }
   ],
   "source": [
    "sns.set_style(\"whitegrid\")\n",
    "fig, ax = plt.subplots(figsize=[13,6])\n",
    "labels = bar['shot_place']\n",
    "colors = ['#ff9999','#66b3ff','#99ff99','#ffcc99']\n",
    "ax = sns.barplot(x=bar['count'], y=labels)\n",
    "ax.set_yticklabels(labels, size = 13)\n",
    "ax.set_xticks(np.arange(1000,57000,4000))\n",
    "ax.set_ylabel(ylabel='')\n",
    "plt.title(\"Shot Placement\", fontsize=25, fontfamily='serif')\n",
    "plt.tight_layout()\n",
    "ax.grid(color='black', linestyle='-', linewidth=0.1, axis='x')\n",
    "plt.show()"
   ]
  },
  {
   "cell_type": "markdown",
   "id": "046b245d",
   "metadata": {},
   "source": [
    "Мы видим, что большинство ударов заблокированы противниками, но это потому, что все незаблокированные удары сгруппированы во множество различных категорий. На предыдущей круговой диаграмме мы видели, что на самом деле 24% бросков действительно заблокированы, что все еще является довольно высоким процентом.\n",
    "По незаблокированным ударам мы видим, что большинство либо направлены в центр ворот, либо промахиваются в левую или правую сторону.\n",
    "Теперь мы исследуем то, что будет очень важно для нашей модели xG: какой процент бросков заканчивается голами. Мы разделим этот анализ на разные лиги и по годам, чтобы проверить, есть ли различия в закономерностях в разных частях мира или в разные годы."
   ]
  },
  {
   "cell_type": "code",
   "execution_count": 15,
   "id": "ce3b83ed",
   "metadata": {},
   "outputs": [
    {
     "data": {
      "text/html": [
       "<div>\n",
       "<style scoped>\n",
       "    .dataframe tbody tr th:only-of-type {\n",
       "        vertical-align: middle;\n",
       "    }\n",
       "\n",
       "    .dataframe tbody tr th {\n",
       "        vertical-align: top;\n",
       "    }\n",
       "\n",
       "    .dataframe thead th {\n",
       "        text-align: right;\n",
       "    }\n",
       "</style>\n",
       "<table border=\"1\" class=\"dataframe\">\n",
       "  <thead>\n",
       "    <tr style=\"text-align: right;\">\n",
       "      <th></th>\n",
       "      <th>is_goal</th>\n",
       "      <th>country</th>\n",
       "      <th>count</th>\n",
       "    </tr>\n",
       "  </thead>\n",
       "  <tbody>\n",
       "    <tr>\n",
       "      <th>0</th>\n",
       "      <td>False</td>\n",
       "      <td>England</td>\n",
       "      <td>30360</td>\n",
       "    </tr>\n",
       "    <tr>\n",
       "      <th>1</th>\n",
       "      <td>False</td>\n",
       "      <td>France</td>\n",
       "      <td>43795</td>\n",
       "    </tr>\n",
       "    <tr>\n",
       "      <th>2</th>\n",
       "      <td>False</td>\n",
       "      <td>Germany</td>\n",
       "      <td>36916</td>\n",
       "    </tr>\n",
       "    <tr>\n",
       "      <th>3</th>\n",
       "      <td>False</td>\n",
       "      <td>Italy</td>\n",
       "      <td>49253</td>\n",
       "    </tr>\n",
       "    <tr>\n",
       "      <th>4</th>\n",
       "      <td>False</td>\n",
       "      <td>Spain</td>\n",
       "      <td>44370</td>\n",
       "    </tr>\n",
       "    <tr>\n",
       "      <th>5</th>\n",
       "      <td>True</td>\n",
       "      <td>England</td>\n",
       "      <td>3552</td>\n",
       "    </tr>\n",
       "    <tr>\n",
       "      <th>6</th>\n",
       "      <td>True</td>\n",
       "      <td>France</td>\n",
       "      <td>5199</td>\n",
       "    </tr>\n",
       "    <tr>\n",
       "      <th>7</th>\n",
       "      <td>True</td>\n",
       "      <td>Germany</td>\n",
       "      <td>4621</td>\n",
       "    </tr>\n",
       "    <tr>\n",
       "      <th>8</th>\n",
       "      <td>True</td>\n",
       "      <td>Italy</td>\n",
       "      <td>5491</td>\n",
       "    </tr>\n",
       "    <tr>\n",
       "      <th>9</th>\n",
       "      <td>True</td>\n",
       "      <td>Spain</td>\n",
       "      <td>5578</td>\n",
       "    </tr>\n",
       "  </tbody>\n",
       "</table>\n",
       "</div>"
      ],
      "text/plain": [
       "   is_goal  country  count\n",
       "0    False  England  30360\n",
       "1    False   France  43795\n",
       "2    False  Germany  36916\n",
       "3    False    Italy  49253\n",
       "4    False    Spain  44370\n",
       "5     True  England   3552\n",
       "6     True   France   5199\n",
       "7     True  Germany   4621\n",
       "8     True    Italy   5491\n",
       "9     True    Spain   5578"
      ]
     },
     "execution_count": 15,
     "metadata": {},
     "output_type": "execute_result"
    }
   ],
   "source": [
    "goals  = shots[['is_goal', 'id_event', 'country']].groupby(['is_goal', 'country']).count().reset_index().rename(columns={'id_event': 'count'})\n",
    "goals.is_goal = goals.is_goal.replace({1: 'Goal', 0: 'No Goal'})\n",
    "goals"
   ]
  },
  {
   "cell_type": "code",
   "execution_count": 16,
   "id": "561f88fc",
   "metadata": {},
   "outputs": [
    {
     "data": {
      "text/html": [
       "<div>\n",
       "<style scoped>\n",
       "    .dataframe tbody tr th:only-of-type {\n",
       "        vertical-align: middle;\n",
       "    }\n",
       "\n",
       "    .dataframe tbody tr th {\n",
       "        vertical-align: top;\n",
       "    }\n",
       "\n",
       "    .dataframe thead th {\n",
       "        text-align: right;\n",
       "    }\n",
       "</style>\n",
       "<table border=\"1\" class=\"dataframe\">\n",
       "  <thead>\n",
       "    <tr style=\"text-align: right;\">\n",
       "      <th></th>\n",
       "      <th>is_goal</th>\n",
       "      <th>country</th>\n",
       "      <th>count</th>\n",
       "      <th>percentage</th>\n",
       "    </tr>\n",
       "  </thead>\n",
       "  <tbody>\n",
       "    <tr>\n",
       "      <th>0</th>\n",
       "      <td>False</td>\n",
       "      <td>England</td>\n",
       "      <td>30360</td>\n",
       "      <td>89.53</td>\n",
       "    </tr>\n",
       "    <tr>\n",
       "      <th>1</th>\n",
       "      <td>False</td>\n",
       "      <td>France</td>\n",
       "      <td>43795</td>\n",
       "      <td>89.39</td>\n",
       "    </tr>\n",
       "    <tr>\n",
       "      <th>2</th>\n",
       "      <td>False</td>\n",
       "      <td>Germany</td>\n",
       "      <td>36916</td>\n",
       "      <td>88.87</td>\n",
       "    </tr>\n",
       "    <tr>\n",
       "      <th>3</th>\n",
       "      <td>False</td>\n",
       "      <td>Italy</td>\n",
       "      <td>49253</td>\n",
       "      <td>89.97</td>\n",
       "    </tr>\n",
       "    <tr>\n",
       "      <th>4</th>\n",
       "      <td>False</td>\n",
       "      <td>Spain</td>\n",
       "      <td>44370</td>\n",
       "      <td>88.83</td>\n",
       "    </tr>\n",
       "    <tr>\n",
       "      <th>5</th>\n",
       "      <td>True</td>\n",
       "      <td>England</td>\n",
       "      <td>3552</td>\n",
       "      <td>10.47</td>\n",
       "    </tr>\n",
       "    <tr>\n",
       "      <th>6</th>\n",
       "      <td>True</td>\n",
       "      <td>France</td>\n",
       "      <td>5199</td>\n",
       "      <td>10.61</td>\n",
       "    </tr>\n",
       "    <tr>\n",
       "      <th>7</th>\n",
       "      <td>True</td>\n",
       "      <td>Germany</td>\n",
       "      <td>4621</td>\n",
       "      <td>11.13</td>\n",
       "    </tr>\n",
       "    <tr>\n",
       "      <th>8</th>\n",
       "      <td>True</td>\n",
       "      <td>Italy</td>\n",
       "      <td>5491</td>\n",
       "      <td>10.03</td>\n",
       "    </tr>\n",
       "    <tr>\n",
       "      <th>9</th>\n",
       "      <td>True</td>\n",
       "      <td>Spain</td>\n",
       "      <td>5578</td>\n",
       "      <td>11.17</td>\n",
       "    </tr>\n",
       "  </tbody>\n",
       "</table>\n",
       "</div>"
      ],
      "text/plain": [
       "   is_goal  country  count  percentage\n",
       "0    False  England  30360       89.53\n",
       "1    False   France  43795       89.39\n",
       "2    False  Germany  36916       88.87\n",
       "3    False    Italy  49253       89.97\n",
       "4    False    Spain  44370       88.83\n",
       "5     True  England   3552       10.47\n",
       "6     True   France   5199       10.61\n",
       "7     True  Germany   4621       11.13\n",
       "8     True    Italy   5491       10.03\n",
       "9     True    Spain   5578       11.17"
      ]
     },
     "execution_count": 16,
     "metadata": {},
     "output_type": "execute_result"
    }
   ],
   "source": [
    "goals['percentage']=0\n",
    "for i in range(len(goals)):\n",
    "    for country in goals.country.unique():\n",
    "        if goals.iloc[i,goals.columns.get_loc(\"country\")]==country:\n",
    "            goals.iloc[i,goals.columns.get_loc(\"percentage\")]=goals.iloc[i,goals.columns.get_loc(\"count\")] / \\\n",
    "                                                            goals[goals.country==country]['count'].sum()\n",
    "goals['percentage']=round(goals['percentage']*100,2)\n",
    "goals"
   ]
  },
  {
   "cell_type": "code",
   "execution_count": 17,
   "id": "60338ea9",
   "metadata": {},
   "outputs": [],
   "source": [
    "# функция для настройки одного графика\n",
    "def _show_on_single_plot(ax):        \n",
    "        for p in ax.patches:\n",
    "            _x = p.get_x() + p.get_width() / 2\n",
    "            _y = p.get_y() + p.get_height()\n",
    "            value = '{:.2f}%'.format(p.get_height())\n",
    "            ax.text(_x, _y+2, value, ha=\"center\", fontsize=14)\n",
    "# функция для настройки множества графиков\n",
    "def show_values_on_bars(axs):\n",
    "    if isinstance(axs, np.ndarray):\n",
    "        for idx, ax in np.ndenumerate(axs):\n",
    "            _show_on_single_plot(ax)\n",
    "    else:\n",
    "        _show_on_single_plot(axs)"
   ]
  },
  {
   "cell_type": "code",
   "execution_count": 18,
   "id": "fcebaf49",
   "metadata": {},
   "outputs": [
    {
     "data": {
      "image/png": "[encoded data removed]",
      "text/plain": [
       "<Figure size 1008x432 with 1 Axes>"
      ]
     },
     "metadata": {},
     "output_type": "display_data"
    }
   ],
   "source": [
    "sns.set_style(\"whitegrid\")\n",
    "fig, ax = plt.subplots(figsize=[14,6])\n",
    "colors = ['#ff9999','#66b3ff']\n",
    "ax = sns.barplot(data=goals, y='percentage', hue='is_goal', x='country')\n",
    "ax.set_yticks(np.arange(0,110,10))\n",
    "ax.set_ylabel(ylabel='Процент %', fontsize=15, fontfamily='serif')\n",
    "ax.set_xlabel(xlabel='Лига', fontsize=15, fontfamily='serif')\n",
    "ax.set_xticklabels(labels=ax.get_xticklabels(), fontsize=16, fontfamily='serif')\n",
    "plt.title(\"Гол/не гол в лиге\", fontsize=24, fontfamily='serif')\n",
    "plt.tight_layout()\n",
    "ax.grid(color='black', linestyle='-', linewidth=0.1, axis='y')\n",
    "plt.legend(fontsize=12)\n",
    "show_values_on_bars(ax)\n",
    "plt.show()"
   ]
  },
  {
   "cell_type": "markdown",
   "id": "cd16b7f7",
   "metadata": {},
   "source": [
    "В разных основных лигах практически нет различий. Кажется, что любой данный удар имеет 10-11% шансов стать голом в любой точке мира."
   ]
  },
  {
   "cell_type": "code",
   "execution_count": 19,
   "id": "b02a2d85",
   "metadata": {},
   "outputs": [
    {
     "data": {
      "text/html": [
       "<div>\n",
       "<style scoped>\n",
       "    .dataframe tbody tr th:only-of-type {\n",
       "        vertical-align: middle;\n",
       "    }\n",
       "\n",
       "    .dataframe tbody tr th {\n",
       "        vertical-align: top;\n",
       "    }\n",
       "\n",
       "    .dataframe thead th {\n",
       "        text-align: right;\n",
       "    }\n",
       "</style>\n",
       "<table border=\"1\" class=\"dataframe\">\n",
       "  <thead>\n",
       "    <tr style=\"text-align: right;\">\n",
       "      <th></th>\n",
       "      <th>is_goal</th>\n",
       "      <th>year</th>\n",
       "      <th>count</th>\n",
       "    </tr>\n",
       "  </thead>\n",
       "  <tbody>\n",
       "    <tr>\n",
       "      <th>0</th>\n",
       "      <td>False</td>\n",
       "      <td>2011</td>\n",
       "      <td>14549</td>\n",
       "    </tr>\n",
       "    <tr>\n",
       "      <th>1</th>\n",
       "      <td>False</td>\n",
       "      <td>2012</td>\n",
       "      <td>32526</td>\n",
       "    </tr>\n",
       "    <tr>\n",
       "      <th>2</th>\n",
       "      <td>False</td>\n",
       "      <td>2013</td>\n",
       "      <td>35019</td>\n",
       "    </tr>\n",
       "    <tr>\n",
       "      <th>3</th>\n",
       "      <td>False</td>\n",
       "      <td>2014</td>\n",
       "      <td>39964</td>\n",
       "    </tr>\n",
       "    <tr>\n",
       "      <th>4</th>\n",
       "      <td>False</td>\n",
       "      <td>2015</td>\n",
       "      <td>41000</td>\n",
       "    </tr>\n",
       "    <tr>\n",
       "      <th>5</th>\n",
       "      <td>False</td>\n",
       "      <td>2016</td>\n",
       "      <td>38953</td>\n",
       "    </tr>\n",
       "    <tr>\n",
       "      <th>6</th>\n",
       "      <td>False</td>\n",
       "      <td>2017</td>\n",
       "      <td>2683</td>\n",
       "    </tr>\n",
       "    <tr>\n",
       "      <th>7</th>\n",
       "      <td>True</td>\n",
       "      <td>2011</td>\n",
       "      <td>1656</td>\n",
       "    </tr>\n",
       "    <tr>\n",
       "      <th>8</th>\n",
       "      <td>True</td>\n",
       "      <td>2012</td>\n",
       "      <td>3909</td>\n",
       "    </tr>\n",
       "    <tr>\n",
       "      <th>9</th>\n",
       "      <td>True</td>\n",
       "      <td>2013</td>\n",
       "      <td>4212</td>\n",
       "    </tr>\n",
       "    <tr>\n",
       "      <th>10</th>\n",
       "      <td>True</td>\n",
       "      <td>2014</td>\n",
       "      <td>4682</td>\n",
       "    </tr>\n",
       "    <tr>\n",
       "      <th>11</th>\n",
       "      <td>True</td>\n",
       "      <td>2015</td>\n",
       "      <td>4790</td>\n",
       "    </tr>\n",
       "    <tr>\n",
       "      <th>12</th>\n",
       "      <td>True</td>\n",
       "      <td>2016</td>\n",
       "      <td>4885</td>\n",
       "    </tr>\n",
       "    <tr>\n",
       "      <th>13</th>\n",
       "      <td>True</td>\n",
       "      <td>2017</td>\n",
       "      <td>307</td>\n",
       "    </tr>\n",
       "  </tbody>\n",
       "</table>\n",
       "</div>"
      ],
      "text/plain": [
       "    is_goal  year  count\n",
       "0     False  2011  14549\n",
       "1     False  2012  32526\n",
       "2     False  2013  35019\n",
       "3     False  2014  39964\n",
       "4     False  2015  41000\n",
       "5     False  2016  38953\n",
       "6     False  2017   2683\n",
       "7      True  2011   1656\n",
       "8      True  2012   3909\n",
       "9      True  2013   4212\n",
       "10     True  2014   4682\n",
       "11     True  2015   4790\n",
       "12     True  2016   4885\n",
       "13     True  2017    307"
      ]
     },
     "execution_count": 19,
     "metadata": {},
     "output_type": "execute_result"
    }
   ],
   "source": [
    "goals = shots[['is_goal', 'id_event', 'year']].groupby(['is_goal', 'year']).count().reset_index().rename(columns={'id_event': 'count'})\n",
    "goals.is_goal = goals.is_goal.replace({1: 'Goal', 0: 'No Goal'})\n",
    "goals"
   ]
  },
  {
   "cell_type": "code",
   "execution_count": 20,
   "id": "4cce1bf8",
   "metadata": {},
   "outputs": [
    {
     "data": {
      "text/html": [
       "<div>\n",
       "<style scoped>\n",
       "    .dataframe tbody tr th:only-of-type {\n",
       "        vertical-align: middle;\n",
       "    }\n",
       "\n",
       "    .dataframe tbody tr th {\n",
       "        vertical-align: top;\n",
       "    }\n",
       "\n",
       "    .dataframe thead th {\n",
       "        text-align: right;\n",
       "    }\n",
       "</style>\n",
       "<table border=\"1\" class=\"dataframe\">\n",
       "  <thead>\n",
       "    <tr style=\"text-align: right;\">\n",
       "      <th></th>\n",
       "      <th>is_goal</th>\n",
       "      <th>year</th>\n",
       "      <th>count</th>\n",
       "      <th>percentage</th>\n",
       "    </tr>\n",
       "  </thead>\n",
       "  <tbody>\n",
       "    <tr>\n",
       "      <th>0</th>\n",
       "      <td>False</td>\n",
       "      <td>2011</td>\n",
       "      <td>14549</td>\n",
       "      <td>89.78</td>\n",
       "    </tr>\n",
       "    <tr>\n",
       "      <th>1</th>\n",
       "      <td>False</td>\n",
       "      <td>2012</td>\n",
       "      <td>32526</td>\n",
       "      <td>89.27</td>\n",
       "    </tr>\n",
       "    <tr>\n",
       "      <th>2</th>\n",
       "      <td>False</td>\n",
       "      <td>2013</td>\n",
       "      <td>35019</td>\n",
       "      <td>89.26</td>\n",
       "    </tr>\n",
       "    <tr>\n",
       "      <th>3</th>\n",
       "      <td>False</td>\n",
       "      <td>2014</td>\n",
       "      <td>39964</td>\n",
       "      <td>89.51</td>\n",
       "    </tr>\n",
       "    <tr>\n",
       "      <th>4</th>\n",
       "      <td>False</td>\n",
       "      <td>2015</td>\n",
       "      <td>41000</td>\n",
       "      <td>89.54</td>\n",
       "    </tr>\n",
       "    <tr>\n",
       "      <th>5</th>\n",
       "      <td>False</td>\n",
       "      <td>2016</td>\n",
       "      <td>38953</td>\n",
       "      <td>88.86</td>\n",
       "    </tr>\n",
       "    <tr>\n",
       "      <th>6</th>\n",
       "      <td>False</td>\n",
       "      <td>2017</td>\n",
       "      <td>2683</td>\n",
       "      <td>89.73</td>\n",
       "    </tr>\n",
       "    <tr>\n",
       "      <th>7</th>\n",
       "      <td>True</td>\n",
       "      <td>2011</td>\n",
       "      <td>1656</td>\n",
       "      <td>10.22</td>\n",
       "    </tr>\n",
       "    <tr>\n",
       "      <th>8</th>\n",
       "      <td>True</td>\n",
       "      <td>2012</td>\n",
       "      <td>3909</td>\n",
       "      <td>10.73</td>\n",
       "    </tr>\n",
       "    <tr>\n",
       "      <th>9</th>\n",
       "      <td>True</td>\n",
       "      <td>2013</td>\n",
       "      <td>4212</td>\n",
       "      <td>10.74</td>\n",
       "    </tr>\n",
       "    <tr>\n",
       "      <th>10</th>\n",
       "      <td>True</td>\n",
       "      <td>2014</td>\n",
       "      <td>4682</td>\n",
       "      <td>10.49</td>\n",
       "    </tr>\n",
       "    <tr>\n",
       "      <th>11</th>\n",
       "      <td>True</td>\n",
       "      <td>2015</td>\n",
       "      <td>4790</td>\n",
       "      <td>10.46</td>\n",
       "    </tr>\n",
       "    <tr>\n",
       "      <th>12</th>\n",
       "      <td>True</td>\n",
       "      <td>2016</td>\n",
       "      <td>4885</td>\n",
       "      <td>11.14</td>\n",
       "    </tr>\n",
       "    <tr>\n",
       "      <th>13</th>\n",
       "      <td>True</td>\n",
       "      <td>2017</td>\n",
       "      <td>307</td>\n",
       "      <td>10.27</td>\n",
       "    </tr>\n",
       "  </tbody>\n",
       "</table>\n",
       "</div>"
      ],
      "text/plain": [
       "    is_goal  year  count  percentage\n",
       "0     False  2011  14549       89.78\n",
       "1     False  2012  32526       89.27\n",
       "2     False  2013  35019       89.26\n",
       "3     False  2014  39964       89.51\n",
       "4     False  2015  41000       89.54\n",
       "5     False  2016  38953       88.86\n",
       "6     False  2017   2683       89.73\n",
       "7      True  2011   1656       10.22\n",
       "8      True  2012   3909       10.73\n",
       "9      True  2013   4212       10.74\n",
       "10     True  2014   4682       10.49\n",
       "11     True  2015   4790       10.46\n",
       "12     True  2016   4885       11.14\n",
       "13     True  2017    307       10.27"
      ]
     },
     "execution_count": 20,
     "metadata": {},
     "output_type": "execute_result"
    }
   ],
   "source": [
    "goals['percentage']=0\n",
    "for i in range(len(goals)):\n",
    "    for year in goals.year.unique():\n",
    "        if goals.iloc[i,goals.columns.get_loc(\"year\")]==year:\n",
    "            goals.iloc[i,goals.columns.get_loc(\"percentage\")]=goals.iloc[i,goals.columns.get_loc(\"count\")] / \\\n",
    "                                                            goals[goals.year==year]['count'].sum()\n",
    "goals['percentage']=round(goals['percentage']*100,2)\n",
    "goals"
   ]
  },
  {
   "cell_type": "code",
   "execution_count": 21,
   "id": "dcf4c96e",
   "metadata": {},
   "outputs": [
    {
     "data": {
      "image/png": "[encoded data removed]",
      "text/plain": [
       "<Figure size 1008x432 with 1 Axes>"
      ]
     },
     "metadata": {},
     "output_type": "display_data"
    }
   ],
   "source": [
    "sns.set_style(\"white\")\n",
    "fig, ax = plt.subplots(figsize=[14,6])\n",
    "colors = ['#ff9999','#66b3ff']\n",
    "ax = sns.barplot(data=goals, y='percentage', hue='is_goal', x='year')\n",
    "ax.set_yticks(np.arange(0,110,10))\n",
    "ax.set_ylabel(ylabel='Процент %', fontsize=15, fontfamily='serif')\n",
    "ax.set_xlabel(xlabel='Год', fontsize=18, fontfamily='serif')\n",
    "ax.set_xticklabels(labels=ax.get_xticklabels(), fontsize=16, fontfamily='serif')\n",
    "plt.title(\"Гол/не гол за год\", fontsize=24, fontfamily='serif')\n",
    "plt.tight_layout()\n",
    "ax.grid(color='black', linestyle='-', linewidth=0.1, axis='y')\n",
    "plt.legend(fontsize=12)\n",
    "show_values_on_bars(ax)\n",
    "plt.show()"
   ]
  },
  {
   "cell_type": "markdown",
   "id": "59b70991",
   "metadata": {},
   "source": [
    "Опять же, мы обнаруживаем, что соотношение забитых/не забитых голов почти одинаково во времени.\n",
    "Так что становится совершенно ясно, что статистически говоря, 1 из 9-10 бросков являются голами, независимо от того, где и когда вы смотрите."
   ]
  },
  {
   "cell_type": "markdown",
   "id": "8hu3iLkHRQpk",
   "metadata": {
    "id": "8hu3iLkHRQpk"
   },
   "source": [
    "## 4. Генерация и селекция признаков, нормализация + выбор метода/алгоритма, модели, архитектуры (для НС)"
   ]
  },
  {
   "cell_type": "markdown",
   "id": "dbca5fac",
   "metadata": {
    "id": "LiMreLEvvlKQ"
   },
   "source": [
    "Здесь мы подготавливаем данные, чтобы сделать их пригодными в качестве входных данных для нашей модели xG. Сначала я немного расскажу о том, что такое ожидаемые цели.\n",
    "\n",
    "**Модели ожидаемого гола** — это попытка количественно оценить вероятность того, что определенный удар приведет к голу. С помощью этой метрики мы можем проанализировать, что произошло в игре, кроме того, сколько голов забила каждая команда. Так как игра выигрывается голами, а голы забиваются только ударами (за исключением редкого случая автогола), то для построения метрики xG нужны только данные бросков. Другими словами, все остальное, что может повлиять на то, сколько «ожидаемых голов» забьет команда, должно происходить в первую очередь за счет большего количества бросков. Например, можно утверждать, что если команда B получает 3 красные карточки, то предполагается, что команда A забьет больше голов (увеличение ожидаемого количества голов). Однако на самом деле наличие еще 3 игроков на поле приведет к большему количеству (и, возможно, лучшему) бросков, а увеличение количества ударов приведет к увеличению ожидаемого количества голов. Поэтому **удары и их информация** - единственное, что нам нужно учитывать\n",
    "\n",
    "Давайте подготовим наборы X и Y. Y просто включит каждый удар в базу данных и будет ли это гол или нет. Это наша целевая переменная. X будет включать всю необходимую информацию о нем, которая есть в наших данных. Рассмотрим необходимые нам поля:\n",
    "\n",
    "\n",
    "- *location*: нападающая половина, оборонительная половина, центр штрафной, левый фланг, правый фланг, сложный угол и дальняя дистанция, сложный угол слева, сложный угол справа, левая сторона штрафной площади, левая сторона шестиметровой штрафной площади , правая сторона штрафной площади, правая сторона шестиметровой площадки, очень близко, одиннадцатиметровая отметка, вне штрафной площади, дальняя дистанция, более 35 ярдов, более 40 ярдов, не записано.\n",
    "\n",
    "- *bodypart*: правая ступня, левая ступня, голова.пеф\n",
    "\n",
    "- *assist_method* : нет, пас, кросс, пас головой, через мяч.\n",
    "\n",
    "- *situation*: открытая игра, стандарт, угловой, свободный удар.\n",
    "\n",
    "- *fast_break*: 1 или 0, вне зависимости от того, был ли удар с быстрого отрыва или нет.\n",
    "\n",
    "Таким образом, у нас есть много значимой информации о каждом кадре. Место, откуда был сделан выстрел, какая часть тела использовалась для удара, как был сделан удара (после передачи, прострела и т. д.), а также ситуация или контекст, в котором произошел удар (проход в штрафную, угловой и др.)\n",
    "\n",
    "Поскольку все это категориальные переменные, мы должны преобразовать их в бинарные фиктивные переменные (за исключением fast_break, которая уже является бинарной)."
   ]
  },
  {
   "cell_type": "code",
   "execution_count": 22,
   "id": "6cb4a931",
   "metadata": {},
   "outputs": [
    {
     "name": "stdout",
     "output_type": "stream",
     "text": [
      "229135\n",
      "24441\n",
      "28\n"
     ]
    }
   ],
   "source": [
    "data = pd.get_dummies(shots.iloc[:,-8:-3], columns=['location', 'bodypart','assist_method', 'situation'])\n",
    "data.columns = ['fast_break', 'loc_centre_box', 'loc_diff_angle_lr', 'diff_angle_left', 'diff_angle_right',\n",
    "                'left_side_box', 'left_side_6ybox', 'right_side_box', 'right_side_6ybox', 'close_range',\n",
    "                'penalty', 'outside_box', 'long_range', 'more_35y', 'more_40y', 'not_recorded', 'right_foot', \n",
    "                'left_foot', 'header', 'no_assist', 'assist_pass', 'assist_cross', 'assist_header',\n",
    "                'assist_through_ball', 'open_play', 'set_piece', 'corner', 'free_kick']\n",
    "data['is_goal'] = shots['is_goal']\n",
    "print(len(data))\n",
    "print(data.is_goal.sum())\n",
    "print(len(data.columns)-1)"
   ]
  },
  {
   "cell_type": "markdown",
   "id": "6eb033ab",
   "metadata": {},
   "source": [
    "Итак, у нас всего 229 135 ударов, из которых 24 441 гол. Для каждого выстрела у нас есть 28 различных характеристик, которые его описывают. Все эти 28 характеристик являются бинарными.\n",
    "\n",
    "Теперь мы разделим наши X и y на два разных набора для обучения и тестирования. Я буду использовать 65% из них для обучения нашей модели и 35% для ее тестирования. Это потому, что у нас достаточно точек данных, поэтому 65% должно быть достаточно для правильного обучения, и я бы предпочел оставить как можно больше данных для чистого тестирования позже."
   ]
  },
  {
   "cell_type": "markdown",
   "id": "9e974d00",
   "metadata": {},
   "source": [
    "## 5. Генерация наборов для обучения, тестирования и валидации"
   ]
  },
  {
   "cell_type": "code",
   "execution_count": 23,
   "id": "517089b6",
   "metadata": {},
   "outputs": [],
   "source": [
    "X = data.iloc[:,:-1] # data без is_goal\n",
    "y = data.iloc[:,-1] # data только с is_goal\n",
    "X_train, X_test, y_train, y_test = train_test_split(X, y, test_size=0.35, random_state=1)"
   ]
  },
  {
   "cell_type": "markdown",
   "id": "bbe83317",
   "metadata": {},
   "source": [
    "## 6. Настройка гиперпараметров (для НС), выбор параметров метода/алгоритма"
   ]
  },
  {
   "cell_type": "markdown",
   "id": "74017fe9",
   "metadata": {},
   "source": [
    "Сначала мы обучим классификатор повышения градиента, который является очень мощным алгоритмом. Он состоит из деревьев решений. Поскольку эти деревья, как правило, подходят для обучающих данных, разработка тысяч различных деревьев с использованием разных предикторов и выборок каждый раз помогает нам уменьшить дисперсию наших прогнозов в рамках дисперсии.\n",
    "\n",
    "Мы используем hyperopt, чтобы узнать лучшие гиперпараметры для настройки нашей модели. Он пробует разные настройки во всех диапазонах, которые мы ему даем, а затем придерживается наиболее перспективных."
   ]
  },
  {
   "cell_type": "code",
   "execution_count": 90,
   "id": "42743dd7",
   "metadata": {},
   "outputs": [],
   "source": [
    "from hyperopt import fmin, tpe, hp, STATUS_OK, Trials\n",
    "\n",
    "def evaluate_model(params): \n",
    "    modelGradient = GradientBoostingClassifier(\n",
    "                        learning_rate=params['learning_rate'],\n",
    "                        min_samples_leaf=params['min_samples_leaf'],\n",
    "                        max_depth = params['max_depth'],\n",
    "                        max_features = params['max_features']\n",
    "                        )\n",
    "\n",
    "    modelGradient.fit(X_train, y_train)\n",
    "    return {\n",
    "        'learning_rate': params['learning_rate'],\n",
    "        'min_samples_leaf': params['min_samples_leaf'],\n",
    "        'max_depth': params['max_depth'],\n",
    "        'max_features': params['max_features'],\n",
    "        'train_ROCAUC': roc_auc_score(y_train, modelGradient.predict_proba(X_train)[:, 1]),\n",
    "        'test_ROCAUC': roc_auc_score(y_test, modelGradient.predict_proba(X_test)[:, 1]),\n",
    "        'recall': recall_score(y_test, modelGradient.predict(X_test)),\n",
    "        'precision': precision_score(y_test, modelGradient.predict(X_test)),\n",
    "        'f1_score': f1_score(y_test, modelGradient.predict(X_test)),\n",
    "        'train_accuracy': modelGradient.score(X_train, y_train),\n",
    "        'test_accuracy': modelGradient.score(X_test, y_test),\n",
    "    }\n",
    "\n",
    "def objective(params):\n",
    "    res = evaluate_model(params)\n",
    "    \n",
    "    res['loss'] = - res['test_ROCAUC'] # hyperopt минимизирует потерю\n",
    "    res['status'] = STATUS_OK # здесь мы говорим hyperopt что эксперимент прошел успешно\n",
    "    return res \n",
    "\n",
    "hyperparameter_space = {\n",
    "        'learning_rate': hp.uniform('learning_rate', 0.05, 0.3),\n",
    "        'min_samples_leaf': hp.choice('min_samples_leaf', range(15, 200)),\n",
    "        'max_depth': hp.choice('max_depth', range(2, 20)),\n",
    "        'max_features': hp.choice('max_features', range(3, 27))\n",
    "}"
   ]
  },
  {
   "cell_type": "code",
   "execution_count": 25,
   "id": "61c76116",
   "metadata": {},
   "outputs": [
    {
     "name": "stdout",
     "output_type": "stream",
     "text": [
      "100%|████████| 50/50 [08:22<00:00, 10.05s/trial, best loss: -0.8195571024769979]\n"
     ]
    }
   ],
   "source": [
    "trials = Trials()\n",
    "fmin(\n",
    "    objective,\n",
    "    space=hyperparameter_space,\n",
    "    algo=tpe.suggest,\n",
    "    max_evals=50,\n",
    "    trials=trials\n",
    ");"
   ]
  },
  {
   "cell_type": "code",
   "execution_count": 26,
   "id": "dc925502",
   "metadata": {},
   "outputs": [
    {
     "data": {
      "text/html": [
       "<div>\n",
       "<style scoped>\n",
       "    .dataframe tbody tr th:only-of-type {\n",
       "        vertical-align: middle;\n",
       "    }\n",
       "\n",
       "    .dataframe tbody tr th {\n",
       "        vertical-align: top;\n",
       "    }\n",
       "\n",
       "    .dataframe thead th {\n",
       "        text-align: right;\n",
       "    }\n",
       "</style>\n",
       "<table border=\"1\" class=\"dataframe\">\n",
       "  <thead>\n",
       "    <tr style=\"text-align: right;\">\n",
       "      <th></th>\n",
       "      <th>learning_rate</th>\n",
       "      <th>min_samples_leaf</th>\n",
       "      <th>max_depth</th>\n",
       "      <th>max_features</th>\n",
       "      <th>train_ROCAUC</th>\n",
       "      <th>test_ROCAUC</th>\n",
       "      <th>recall</th>\n",
       "      <th>precision</th>\n",
       "      <th>f1_score</th>\n",
       "      <th>train_accuracy</th>\n",
       "      <th>test_accuracy</th>\n",
       "      <th>loss</th>\n",
       "      <th>status</th>\n",
       "    </tr>\n",
       "  </thead>\n",
       "  <tbody>\n",
       "    <tr>\n",
       "      <th>32</th>\n",
       "      <td>0.102101</td>\n",
       "      <td>31</td>\n",
       "      <td>16</td>\n",
       "      <td>9</td>\n",
       "      <td>0.818948</td>\n",
       "      <td>0.818475</td>\n",
       "      <td>0.268462</td>\n",
       "      <td>0.711880</td>\n",
       "      <td>0.389890</td>\n",
       "      <td>0.910546</td>\n",
       "      <td>0.910908</td>\n",
       "      <td>-0.818475</td>\n",
       "      <td>ok</td>\n",
       "    </tr>\n",
       "    <tr>\n",
       "      <th>14</th>\n",
       "      <td>0.233904</td>\n",
       "      <td>82</td>\n",
       "      <td>14</td>\n",
       "      <td>24</td>\n",
       "      <td>0.818986</td>\n",
       "      <td>0.818551</td>\n",
       "      <td>0.268109</td>\n",
       "      <td>0.711833</td>\n",
       "      <td>0.389511</td>\n",
       "      <td>0.910566</td>\n",
       "      <td>0.910883</td>\n",
       "      <td>-0.818551</td>\n",
       "      <td>ok</td>\n",
       "    </tr>\n",
       "    <tr>\n",
       "      <th>45</th>\n",
       "      <td>0.209452</td>\n",
       "      <td>80</td>\n",
       "      <td>13</td>\n",
       "      <td>19</td>\n",
       "      <td>0.818910</td>\n",
       "      <td>0.818589</td>\n",
       "      <td>0.267756</td>\n",
       "      <td>0.712899</td>\n",
       "      <td>0.389297</td>\n",
       "      <td>0.910539</td>\n",
       "      <td>0.910920</td>\n",
       "      <td>-0.818589</td>\n",
       "      <td>ok</td>\n",
       "    </tr>\n",
       "    <tr>\n",
       "      <th>29</th>\n",
       "      <td>0.095423</td>\n",
       "      <td>158</td>\n",
       "      <td>7</td>\n",
       "      <td>14</td>\n",
       "      <td>0.817526</td>\n",
       "      <td>0.819557</td>\n",
       "      <td>0.267168</td>\n",
       "      <td>0.716719</td>\n",
       "      <td>0.389241</td>\n",
       "      <td>0.910405</td>\n",
       "      <td>0.911095</td>\n",
       "      <td>-0.819557</td>\n",
       "      <td>ok</td>\n",
       "    </tr>\n",
       "    <tr>\n",
       "      <th>4</th>\n",
       "      <td>0.272223</td>\n",
       "      <td>78</td>\n",
       "      <td>13</td>\n",
       "      <td>11</td>\n",
       "      <td>0.818947</td>\n",
       "      <td>0.818478</td>\n",
       "      <td>0.267756</td>\n",
       "      <td>0.712453</td>\n",
       "      <td>0.389231</td>\n",
       "      <td>0.910533</td>\n",
       "      <td>0.910896</td>\n",
       "      <td>-0.818478</td>\n",
       "      <td>ok</td>\n",
       "    </tr>\n",
       "  </tbody>\n",
       "</table>\n",
       "</div>"
      ],
      "text/plain": [
       "    learning_rate  min_samples_leaf  max_depth  max_features  train_ROCAUC  \\\n",
       "32       0.102101                31         16             9      0.818948   \n",
       "14       0.233904                82         14            24      0.818986   \n",
       "45       0.209452                80         13            19      0.818910   \n",
       "29       0.095423               158          7            14      0.817526   \n",
       "4        0.272223                78         13            11      0.818947   \n",
       "\n",
       "    test_ROCAUC    recall  precision  f1_score  train_accuracy  test_accuracy  \\\n",
       "32     0.818475  0.268462   0.711880  0.389890        0.910546       0.910908   \n",
       "14     0.818551  0.268109   0.711833  0.389511        0.910566       0.910883   \n",
       "45     0.818589  0.267756   0.712899  0.389297        0.910539       0.910920   \n",
       "29     0.819557  0.267168   0.716719  0.389241        0.910405       0.911095   \n",
       "4      0.818478  0.267756   0.712453  0.389231        0.910533       0.910896   \n",
       "\n",
       "        loss status  \n",
       "32 -0.818475     ok  \n",
       "14 -0.818551     ok  \n",
       "45 -0.818589     ok  \n",
       "29 -0.819557     ok  \n",
       "4  -0.818478     ok  "
      ]
     },
     "execution_count": 26,
     "metadata": {},
     "output_type": "execute_result"
    }
   ],
   "source": [
    "pd.DataFrame(trials.results).sort_values(by='f1_score', ascending=False).head(5)"
   ]
  },
  {
   "cell_type": "markdown",
   "id": "c46408a7",
   "metadata": {},
   "source": [
    "Мы получаем наилучшие результаты с указанными выше гиперпараметрами, хотя видим, что при использовании разных значений параметров нет очень больших различий. Приятно видеть, что нет никаких признаков переобучения, поскольку наши прогнозы одинаково хороши как для обучения, так и для тестирования примеров."
   ]
  },
  {
   "cell_type": "markdown",
   "id": "ad1570fd",
   "metadata": {},
   "source": [
    "**Gradient Boosting Classifier**"
   ]
  },
  {
   "cell_type": "code",
   "execution_count": 27,
   "id": "2b691166",
   "metadata": {},
   "outputs": [
    {
     "data": {
      "text/plain": [
       "GradientBoostingClassifier(learning_rate=0.285508, max_depth=19, max_features=7,\n",
       "                           min_samples_leaf=99)"
      ]
     },
     "execution_count": 27,
     "metadata": {},
     "output_type": "execute_result"
    }
   ],
   "source": [
    "modelGradient = GradientBoostingClassifier(\n",
    "                        learning_rate=0.285508,\n",
    "                        min_samples_leaf=99,\n",
    "                        max_depth = 19,\n",
    "                        max_features = 7\n",
    "                        )\n",
    "modelGradient.fit(X_train, y_train)"
   ]
  },
  {
   "cell_type": "markdown",
   "id": "ed337277",
   "metadata": {},
   "source": [
    "**Logistic Regression**"
   ]
  },
  {
   "cell_type": "code",
   "execution_count": 28,
   "id": "a1a78c63",
   "metadata": {},
   "outputs": [
    {
     "data": {
      "text/plain": [
       "LogisticRegression(max_iter=400)"
      ]
     },
     "execution_count": 28,
     "metadata": {},
     "output_type": "execute_result"
    }
   ],
   "source": [
    "modelLogistic = LogisticRegression(max_iter=400)\n",
    "modelLogistic.fit(X_train, y_train)"
   ]
  },
  {
   "cell_type": "markdown",
   "id": "df9681a6",
   "metadata": {},
   "source": [
    "## 7. Выбор метрики оценки качества"
   ]
  },
  {
   "cell_type": "markdown",
   "id": "dbefff9e",
   "metadata": {},
   "source": [
    "Давайте более подробно проанализируем производительности моделей"
   ]
  },
  {
   "cell_type": "markdown",
   "id": "c0cec74b",
   "metadata": {},
   "source": [
    "- *modelGradient*"
   ]
  },
  {
   "cell_type": "code",
   "execution_count": 29,
   "id": "1f7118bb",
   "metadata": {},
   "outputs": [
    {
     "name": "stdout",
     "output_type": "stream",
     "text": [
      "Тестовый набор содержит 80198 выстрелов, из которых 8504 голов.\n",
      "Точность определения того, является ли удар голом или нет, составляет 91%.\n",
      "Наш классификатор получает ROC-AUC 82%\n"
     ]
    }
   ],
   "source": [
    "print('Тестовый набор содержит {} выстрелов, из которых {} голов.'.format(len(y_test), y_test.sum()))\n",
    "print('Точность определения того, является ли удар голом или нет, составляет {}%.'.format(round(modelGradient.score(X_test, y_test)*100), 0))\n",
    "print('Наш классификатор получает ROC-AUC {}%'.format(round(roc_auc_score(y_test, modelGradient.predict_proba(X_test)[:, 1])*100),0))\n"
   ]
  },
  {
   "cell_type": "markdown",
   "id": "ad611bcb",
   "metadata": {},
   "source": [
    "Итак, мы видим, что наша модель способна правильно предсказать, является ли удар голом или нет, в 91% случаев. Кроме того, мы получаем довольно хорошую метрику ROC-AUC 82%. Это выглядит очень многообещающе.\n",
    "\n",
    "Однако эти две метрики не учитывают, что наш набор данных сильно несбалансирован. Есть гораздо больше бросков, которые не становятся голами, чем бросков, которые достигают цели. Так, например, если бы мы просто предсказывали, что бросок не будет забит каждый раз, мы бы уже получили точность 89%.\n",
    "\n",
    "Поэтому нам нужны другие показатели, чтобы действительно понять, хороша ли наша модель.\n",
    "\n",
    "\n",
    "Теперь мы рассмотрим PR-AUC (Precision-Recall Under the Curve) и статистику Каппа Коэна. Они больше подходят для нашего случая, поскольку они учитывают дисбаланс в наших данных."
   ]
  },
  {
   "cell_type": "code",
   "execution_count": 30,
   "id": "06338d27",
   "metadata": {},
   "outputs": [
    {
     "name": "stdout",
     "output_type": "stream",
     "text": [
      "Базовая производительность для PR-AUC составляет 0.11%. Это PR-AUC, которое мы получили бы путем случайного угадывания.\n",
      "Наша модель получает PR-AUC 47.36%.\n",
      "Наш классификатор получает коэффициент Каппы Коэна 0.35.\n"
     ]
    }
   ],
   "source": [
    "print('Базовая производительность для PR-AUC составляет {}%. Это PR-AUC, которое мы получили бы путем случайного угадывания.'.format(round(y_train.mean(),2)))\n",
    "print('Наша модель получает PR-AUC {}%.'.format(round(average_precision_score(y_test, modelGradient.predict_proba(X_test)[:, 1])*100,2)))\n",
    "print('Наш классификатор получает коэффициент Каппы Коэна {}.'.format(round(cohen_kappa_score(y_test,modelGradient.predict(X_test)),2)))\n",
    "\n"
   ]
  },
  {
   "cell_type": "markdown",
   "id": "f8960a0c",
   "metadata": {},
   "source": [
    "Мы заканчиваем оценку модели матрицей ошибок и дополнительным статистическим отчетом."
   ]
  },
  {
   "cell_type": "code",
   "execution_count": 31,
   "id": "0ee68e73",
   "metadata": {},
   "outputs": [
    {
     "name": "stdout",
     "output_type": "stream",
     "text": [
      "Матрица ошибок:\n",
      "\n",
      "[[70783   911]\n",
      " [ 6236  2268]]\n",
      "\n",
      " Отчет:\n",
      "              precision    recall  f1-score   support\n",
      "\n",
      "       False       0.92      0.99      0.95     71694\n",
      "        True       0.71      0.27      0.39      8504\n",
      "\n",
      "    accuracy                           0.91     80198\n",
      "   macro avg       0.82      0.63      0.67     80198\n",
      "weighted avg       0.90      0.91      0.89     80198\n",
      "\n"
     ]
    }
   ],
   "source": [
    "print('Матрица ошибок:\\n')\n",
    "print(confusion_matrix(y_test,modelGradient.predict(X_test)))\n",
    "print('\\n Отчет:')\n",
    "print(classification_report(y_test,modelGradient.predict(X_test)))"
   ]
  },
  {
   "cell_type": "markdown",
   "id": "128bb169",
   "metadata": {},
   "source": [
    "Матрица ошибок суммирует все прогнозы. Это говорит нам о том, что из всех ударов, которые не были голами, наша модель правильно определила 70 781 как незабитые и допустила ошибку в 6 238 случаях, когда она предсказывала, что удар не будет голом, но он был. Из другого столбца мы видим, что он правильно предсказал 913 голов, но не смог предсказать 2266 успешных ударов в качестве голов.\n",
    "\n",
    "Из отчета видно, что модель имеет отличные показатели, когда речь идет о прогнозировании класса False (отсутствие гола), но не так хороша для прогнозирования класса True (гола). С последним у нас есть точность 71% и полнота 27%, в результате чего оценка F1 равна 0,39. Это приличные цифры, но не очень хорошие. "
   ]
  },
  {
   "cell_type": "markdown",
   "id": "69dde5b4",
   "metadata": {},
   "source": [
    "- *modelLogistic*"
   ]
  },
  {
   "cell_type": "code",
   "execution_count": 32,
   "id": "b9731537",
   "metadata": {},
   "outputs": [
    {
     "name": "stdout",
     "output_type": "stream",
     "text": [
      "Тестовый набор содержит 80198 выстрелов, из которых 8504 голов.\n",
      "Точность определения того, является ли удар голом или нет, составляет 91%.\n",
      "Наш классификатор получает ROC-AUC 82%\n"
     ]
    }
   ],
   "source": [
    "print('Тестовый набор содержит {} выстрелов, из которых {} голов.'.format(len(y_test), y_test.sum()))\n",
    "print('Точность определения того, является ли удар голом или нет, составляет {}%.'.format(round(modelLogistic.score(X_test, y_test)*100), 0))\n",
    "print('Наш классификатор получает ROC-AUC {}%'.format(round(roc_auc_score(y_test, modelLogistic.predict_proba(X_test)[:, 1])*100),0))\n"
   ]
  },
  {
   "cell_type": "code",
   "execution_count": 33,
   "id": "0972d396",
   "metadata": {},
   "outputs": [
    {
     "name": "stdout",
     "output_type": "stream",
     "text": [
      "Базовая производительность для PR-AUC составляет 0.11%. Это PR-AUC, которое мы получили бы путем случайного угадывания.\n",
      "Наша модель получает PR-AUC 47.08%.\n",
      "Наш классификатор получает коэффициент Каппы Коэна 0.35.\n"
     ]
    }
   ],
   "source": [
    "print('Базовая производительность для PR-AUC составляет {}%. Это PR-AUC, которое мы получили бы путем случайного угадывания.'.format(round(y_train.mean(),2)))\n",
    "print('Наша модель получает PR-AUC {}%.'.format(round(average_precision_score(y_test, modelLogistic.predict_proba(X_test)[:, 1])*100,2)))\n",
    "print('Наш классификатор получает коэффициент Каппы Коэна {}.'.format(round(cohen_kappa_score(y_test,modelLogistic.predict(X_test)),2)))\n",
    "\n"
   ]
  },
  {
   "cell_type": "code",
   "execution_count": 34,
   "id": "477f37a2",
   "metadata": {},
   "outputs": [
    {
     "name": "stdout",
     "output_type": "stream",
     "text": [
      "Матрица ошибок:\n",
      "\n",
      "[[70820   874]\n",
      " [ 6265  2239]]\n",
      "\n",
      " Отчет:\n",
      "              precision    recall  f1-score   support\n",
      "\n",
      "       False       0.92      0.99      0.95     71694\n",
      "        True       0.72      0.26      0.39      8504\n",
      "\n",
      "    accuracy                           0.91     80198\n",
      "   macro avg       0.82      0.63      0.67     80198\n",
      "weighted avg       0.90      0.91      0.89     80198\n",
      "\n"
     ]
    }
   ],
   "source": [
    "print('Матрица ошибок:\\n')\n",
    "print(confusion_matrix(y_test,modelLogistic.predict(X_test)))\n",
    "print('\\n Отчет:')\n",
    "print(classification_report(y_test,modelLogistic.predict(X_test)))"
   ]
  },
  {
   "cell_type": "markdown",
   "id": "5fd5eb94",
   "metadata": {},
   "source": [
    "Мы получаем почти те же результаты, что и с Gradient Boosting. В этом случае обычно следует предпочесть более простую модель, в данном случае логистическую регрессию. Однако есть 33 гола, которые были правильно распознаны градиентным бустингом, но не были захвачены логистической регрессией. Несмотря на то, что это не большая разница, я выберу Gradient Boosting именно из-за этого."
   ]
  },
  {
   "cell_type": "markdown",
   "id": "4b6ed528",
   "metadata": {},
   "source": [
    "Давайте посмотрим, какие из наших параметров более важны для нашей модели, чтобы принять решение о том, является ли каждый удар голом или нет."
   ]
  },
  {
   "cell_type": "code",
   "execution_count": 98,
   "id": "9c07f961",
   "metadata": {},
   "outputs": [],
   "source": [
    "# Функция возвращает важность столбцов в датасэте, чем выше важность, тем лучше. \n",
    "def plot_feature_importances(df):\n",
    "    df = df.sort_values('importance', ascending = False).reset_index()\n",
    "    # Нормализуем важность свойств, чтобы в сумме получить единицу\n",
    "    df['importance_normalized'] = df['importance'] / df['importance'].sum()\n",
    "    # Горизонтальная гистограмма важности\n",
    "    plt.figure(figsize = (10, 6))\n",
    "    ax = plt.subplot()\n",
    "    # Сортировка объектов по важности\n",
    "    ax.barh(list(reversed(list(df.index[:15]))), \n",
    "            df['importance_normalized'].head(15), \n",
    "            align = 'center', edgecolor = 'k')\n",
    "    # Установим метки\n",
    "    ax.set_yticks(list(reversed(list(df.index[:15]))))\n",
    "    ax.set_yticklabels(df['feature'].head(15))\n",
    "    plt.xlabel('Важность'); plt.title('Важность параметров')\n",
    "    plt.show()"
   ]
  },
  {
   "cell_type": "code",
   "execution_count": null,
   "id": "b0d7a2b6",
   "metadata": {},
   "outputs": [
    {
     "name": "stderr",
     "output_type": "stream",
     "text": [
      "[Parallel(n_jobs=-1)]: Using backend ThreadingBackend with 8 concurrent workers.\n"
     ]
    }
   ],
   "source": [
    "from sklearn.ensemble import RandomForestClassifier\n",
    "# Классификатор случайного леса\n",
    "random_forest = RandomForestClassifier(n_estimators = 100, random_state = 12, verbose = 1, n_jobs = -1)\n",
    "random_forest.fit(X_train, y_train)\n",
    "features = list(X.columns)\n",
    "feature_importance_values = random_forest.feature_importances_\n",
    "feature_importances = pd.DataFrame({'feature': features, 'importance': feature_importance_values})\n",
    "\n",
    "feature_importances_sorted = plot_feature_importances(feature_importances)"
   ]
  },
  {
   "cell_type": "markdown",
   "id": "7ec05007",
   "metadata": {},
   "source": [
    "Есть одна вещь, о которой следует беспокоиться, это высокий коэффициент location=not_recorded. По-видимому, есть удары, место которых не зафиксировано, и по какой-то причине эти выстрелы с большой долей вероятности являются голами. Это упрощает работу модели. Чтобы лучше понять модель, было бы интересно удалить эти строки и проверить ее производительность. Я попробовал это, и это приводит к небольшому снижению производительности (ROC-AUC = 81%, PR-AUC = 41%), поэтому нет слишком больших различий. Я все равно оставлю эти строки, так как анализы игроков буду делать позже и не хочу стирать ценную информацию о голах игроков."
   ]
  },
  {
   "cell_type": "markdown",
   "id": "2262ab67",
   "metadata": {},
   "source": [
    "## 8. Развертывание и работа модели, визуализация результатов"
   ]
  },
  {
   "cell_type": "markdown",
   "id": "54f1ea9f",
   "metadata": {},
   "source": [
    "Мы начнем с добавления имеющейся у нас информации об ожидаемых голах к каждому удару в наших исходных данных. Оттуда мы можем извлечь множество интересных метрик об игроках, причем все эти метрики так или иначе связаны с новыми прогнозами модели xG для каждого удара."
   ]
  },
  {
   "cell_type": "code",
   "execution_count": 38,
   "id": "5bd63e53",
   "metadata": {},
   "outputs": [],
   "source": [
    "shots['prediction'] = modelGradient.predict_proba(X)[:, 1]\n",
    "shots['difference'] = shots['prediction'] - shots['is_goal']"
   ]
  },
  {
   "cell_type": "markdown",
   "id": "e9cc38ae",
   "metadata": {},
   "source": [
    "Какие игроки являются лучшими финишерами?\n",
    "Глядя на разницу между количеством голов игрока и его ожидаемым количеством голов, мы можем увидеть, кто больше забивает. Мы можем подойти к этой проблеме с двух разных точек зрения:\n",
    "\n",
    "- Посмотрим на разницу между общим количеством забитых голов и общим количеством ожидаемых голов: это покажет нам, какой игрок забил наибольшее количество голов по сравнению с тем, что он должен был забить.\n",
    "\n",
    "- Посмотрим на соотношение между общим количеством забитых голов и общим количеством ожидаемых голов: это покажет нам точное соотношение того, сколько голов игрок на самом деле забивает на каждый гол, который он должен был забить."
   ]
  },
  {
   "cell_type": "code",
   "execution_count": 39,
   "id": "57fad2d7",
   "metadata": {},
   "outputs": [
    {
     "name": "stdout",
     "output_type": "stream",
     "text": [
      "0.977\n"
     ]
    }
   ],
   "source": [
    "players = shots.groupby('player').sum().reset_index()\n",
    "players.rename(columns={'is_goal': 'trueGoals', 'prediction': 'expectedGoals'}, inplace=True)\n",
    "players.expectedGoals = round(players.expectedGoals,2)\n",
    "players.difference = round(players.difference,2)\n",
    "players['ratio'] = players['trueGoals'] / players['expectedGoals']\n",
    "print(round(players.expectedGoals.corr(players.trueGoals),3))"
   ]
  },
  {
   "cell_type": "markdown",
   "id": "432f615d",
   "metadata": {},
   "source": [
    "Как было сказано выше, мы видим, что корреляция между trueGoals и ожидаемыми голами очень высока, что хорошо говорит о нашей модели xG."
   ]
  },
  {
   "cell_type": "code",
   "execution_count": 51,
   "id": "19961a3e",
   "metadata": {},
   "outputs": [
    {
     "data": {
      "text/html": [
       "<div>\n",
       "<style scoped>\n",
       "    .dataframe tbody tr th:only-of-type {\n",
       "        vertical-align: middle;\n",
       "    }\n",
       "\n",
       "    .dataframe tbody tr th {\n",
       "        vertical-align: top;\n",
       "    }\n",
       "\n",
       "    .dataframe thead th {\n",
       "        text-align: right;\n",
       "    }\n",
       "</style>\n",
       "<table border=\"1\" class=\"dataframe\">\n",
       "  <thead>\n",
       "    <tr style=\"text-align: right;\">\n",
       "      <th></th>\n",
       "      <th>rank</th>\n",
       "      <th>player</th>\n",
       "      <th>difference</th>\n",
       "      <th>trueGoals</th>\n",
       "      <th>expectedGoals</th>\n",
       "    </tr>\n",
       "  </thead>\n",
       "  <tbody>\n",
       "    <tr>\n",
       "      <th>0</th>\n",
       "      <td>1</td>\n",
       "      <td>Lionel Messi</td>\n",
       "      <td>-58.63</td>\n",
       "      <td>205</td>\n",
       "      <td>146.37</td>\n",
       "    </tr>\n",
       "    <tr>\n",
       "      <th>1</th>\n",
       "      <td>2</td>\n",
       "      <td>Zlatan Ibrahimovic</td>\n",
       "      <td>-33.83</td>\n",
       "      <td>153</td>\n",
       "      <td>119.17</td>\n",
       "    </tr>\n",
       "    <tr>\n",
       "      <th>2</th>\n",
       "      <td>3</td>\n",
       "      <td>Cristiano Ronaldo</td>\n",
       "      <td>-32.34</td>\n",
       "      <td>198</td>\n",
       "      <td>165.66</td>\n",
       "    </tr>\n",
       "    <tr>\n",
       "      <th>3</th>\n",
       "      <td>4</td>\n",
       "      <td>Luis Suarez</td>\n",
       "      <td>-31.75</td>\n",
       "      <td>96</td>\n",
       "      <td>64.25</td>\n",
       "    </tr>\n",
       "    <tr>\n",
       "      <th>4</th>\n",
       "      <td>5</td>\n",
       "      <td>Gonzalo Higuain</td>\n",
       "      <td>-31.64</td>\n",
       "      <td>118</td>\n",
       "      <td>86.36</td>\n",
       "    </tr>\n",
       "  </tbody>\n",
       "</table>\n",
       "</div>"
      ],
      "text/plain": [
       "   rank              player  difference  trueGoals  expectedGoals\n",
       "0     1        Lionel Messi      -58.63        205         146.37\n",
       "1     2  Zlatan Ibrahimovic      -33.83        153         119.17\n",
       "2     3   Cristiano Ronaldo      -32.34        198         165.66\n",
       "3     4         Luis Suarez      -31.75         96          64.25\n",
       "4     5     Gonzalo Higuain      -31.64        118          86.36"
      ]
     },
     "execution_count": 51,
     "metadata": {},
     "output_type": "execute_result"
    }
   ],
   "source": [
    "show = players.sort_values(['difference', 'trueGoals']).reset_index(drop=True)\n",
    "show['rank'] = show.index+1\n",
    "show = show[['rank', 'player', 'difference', 'trueGoals', 'expectedGoals']].head(10)\n",
    "show.head(5)"
   ]
  },
  {
   "cell_type": "code",
   "execution_count": 52,
   "id": "746fa355",
   "metadata": {},
   "outputs": [
    {
     "data": {
      "image/png": "[encoded data removed]",
      "text/plain": [
       "<Figure size 864x360 with 1 Axes>"
      ]
     },
     "metadata": {},
     "output_type": "display_data"
    }
   ],
   "source": [
    "sns.set_style(\"dark\")\n",
    "fig, ax = plt.subplots(figsize=[12,5])\n",
    "ax = sns.barplot(x=abs(show['difference']), y=show['player'], palette='viridis', alpha=0.9)\n",
    "ax.set_xticks(np.arange(0,65,5))\n",
    "ax.set_xlabel(xlabel='Разница между забитыми и ожидаемыми голами', fontsize=12)\n",
    "ax.set_ylabel(ylabel='')\n",
    "ax.set_yticklabels(labels=ax.get_yticklabels(), fontsize=12)\n",
    "plt.title(\"Лучшие бомбардиры: наибольшее количество голов сверх ожидаемого\", fontsize=20, fontfamily='serif')\n",
    "ax.grid(color='black', linestyle='-', linewidth=0.1, alpha=0.8, axis='x')\n",
    "plt.show()"
   ]
  },
  {
   "cell_type": "markdown",
   "id": "0b7b39f9",
   "metadata": {},
   "source": [
    "Неудивительно, что мы видим, что Месси намного лучше всех остальных по этому показателю. Судя по количеству и характеристикам всех бросков, он должен был забить 146 голов, но вместо этого он забил 205 голов. Как и ожидалось, в верхней части списка мы находим известных игроков мирового уровня.\n",
    "\n",
    "Давайте посмотрим, что произойдет, если вместо этого мы посмотрим на соотношение забитых/ожидаемых голов. Мы оставим только игроков, забивших в общей сложности более 30 голов"
   ]
  },
  {
   "cell_type": "code",
   "execution_count": 53,
   "id": "31eeaa38",
   "metadata": {},
   "outputs": [
    {
     "data": {
      "text/html": [
       "<div>\n",
       "<style scoped>\n",
       "    .dataframe tbody tr th:only-of-type {\n",
       "        vertical-align: middle;\n",
       "    }\n",
       "\n",
       "    .dataframe tbody tr th {\n",
       "        vertical-align: top;\n",
       "    }\n",
       "\n",
       "    .dataframe thead th {\n",
       "        text-align: right;\n",
       "    }\n",
       "</style>\n",
       "<table border=\"1\" class=\"dataframe\">\n",
       "  <thead>\n",
       "    <tr style=\"text-align: right;\">\n",
       "      <th></th>\n",
       "      <th>rank</th>\n",
       "      <th>player</th>\n",
       "      <th>ratio</th>\n",
       "      <th>trueGoals</th>\n",
       "      <th>expectedGoals</th>\n",
       "    </tr>\n",
       "  </thead>\n",
       "  <tbody>\n",
       "    <tr>\n",
       "      <th>0</th>\n",
       "      <td>1</td>\n",
       "      <td>Franck Ribery</td>\n",
       "      <td>1.906578</td>\n",
       "      <td>40</td>\n",
       "      <td>20.98</td>\n",
       "    </tr>\n",
       "    <tr>\n",
       "      <th>1</th>\n",
       "      <td>2</td>\n",
       "      <td>Mario Gotze</td>\n",
       "      <td>1.585941</td>\n",
       "      <td>37</td>\n",
       "      <td>23.33</td>\n",
       "    </tr>\n",
       "    <tr>\n",
       "      <th>2</th>\n",
       "      <td>3</td>\n",
       "      <td>Bas Dost</td>\n",
       "      <td>1.549720</td>\n",
       "      <td>36</td>\n",
       "      <td>23.23</td>\n",
       "    </tr>\n",
       "    <tr>\n",
       "      <th>3</th>\n",
       "      <td>4</td>\n",
       "      <td>Heungmin Son</td>\n",
       "      <td>1.519468</td>\n",
       "      <td>32</td>\n",
       "      <td>21.06</td>\n",
       "    </tr>\n",
       "    <tr>\n",
       "      <th>4</th>\n",
       "      <td>5</td>\n",
       "      <td>Luis Suarez</td>\n",
       "      <td>1.494163</td>\n",
       "      <td>96</td>\n",
       "      <td>64.25</td>\n",
       "    </tr>\n",
       "  </tbody>\n",
       "</table>\n",
       "</div>"
      ],
      "text/plain": [
       "   rank         player     ratio  trueGoals  expectedGoals\n",
       "0     1  Franck Ribery  1.906578         40          20.98\n",
       "1     2    Mario Gotze  1.585941         37          23.33\n",
       "2     3       Bas Dost  1.549720         36          23.23\n",
       "3     4   Heungmin Son  1.519468         32          21.06\n",
       "4     5    Luis Suarez  1.494163         96          64.25"
      ]
     },
     "execution_count": 53,
     "metadata": {},
     "output_type": "execute_result"
    }
   ],
   "source": [
    "show = players[players['trueGoals']>30].sort_values(['ratio', 'trueGoals'], ascending=False).reset_index(drop=True)\n",
    "show['rank'] = show.index+1\n",
    "show = show[['rank', 'player', 'ratio', 'trueGoals', 'expectedGoals']].head(10)\n",
    "show.head(5)"
   ]
  },
  {
   "cell_type": "code",
   "execution_count": 54,
   "id": "b9d943c4",
   "metadata": {},
   "outputs": [
    {
     "data": {
      "image/png": "[encoded data removed]",
      "text/plain": [
       "<Figure size 864x360 with 1 Axes>"
      ]
     },
     "metadata": {},
     "output_type": "display_data"
    }
   ],
   "source": [
    "sns.set_style(\"dark\")\n",
    "fig, ax = plt.subplots(figsize=[12,5])\n",
    "ax = sns.barplot(x=show['ratio'], y=show['player'], palette='viridis', alpha=0.9)\n",
    "ax.set_xticks(np.arange(0,1.9,0.2))\n",
    "ax.set_xlabel(xlabel='Голы забиты на один xG модели', fontsize=12)\n",
    "ax.set_ylabel(ylabel='')\n",
    "ax.set_yticklabels(labels=ax.get_yticklabels(), fontsize=12)\n",
    "plt.title(\"Лучшие бомбардиры: goals/xGoals\", fontsize=22, fontfamily='serif')\n",
    "ax.grid(color='black', linestyle='-', linewidth=0.1, axis='x')\n",
    "plt.show()"
   ]
  },
  {
   "cell_type": "markdown",
   "id": "74023dd7",
   "metadata": {},
   "source": [
    "Мы находим Рибери самым результативным бомбардиром в игре. Одна приятная особенность этой метрики заключается в том, что ее очень легко интерпретировать. В случае с Рибери из каждого гола, который он должен был забить в зависимости от количества и контекста его ударов, он забил почти два."
   ]
  },
  {
   "cell_type": "markdown",
   "id": "38a0920b",
   "metadata": {},
   "source": [
    "**Лучшие бомбардиры за год в лиге**\n"
   ]
  },
  {
   "cell_type": "code",
   "execution_count": 55,
   "id": "685b47ea",
   "metadata": {},
   "outputs": [],
   "source": [
    "players_per_year = shots.groupby(['year', 'country', 'player']).sum().reset_index()\n",
    "players_per_year.rename(columns={'is_goal': 'trueGoals', 'prediction': 'expectedGoals'}, inplace=True)\n",
    "players_per_year.expectedGoals = round(players_per_year.expectedGoals,2)\n",
    "players_per_year.difference = round(players_per_year.difference,2)\n",
    "players_per_year['ratio'] = players_per_year['trueGoals'] / players_per_year['expectedGoals']\n",
    "players_per_year['ratio'] = round(players_per_year.ratio, 2)"
   ]
  },
  {
   "cell_type": "code",
   "execution_count": 56,
   "id": "f61f12e5",
   "metadata": {},
   "outputs": [],
   "source": [
    "def best_finishers_per_year(years, leagues, min_goals, df):\n",
    "    years_res=[]; leagues_res=[]; players_res=[]; ratio_res=[]; goals=[]\n",
    "    players_per_year = df[df['trueGoals']>min_goals]\n",
    "    for league in leagues:\n",
    "        for year in years:\n",
    "            results = players_per_year[(players_per_year['year']==year) & (players_per_year['country']==league)].sort_values(by='ratio', ascending=False).reset_index(drop=True)\n",
    "            results['rank'] = results.index + 1\n",
    "            if len(results)>0:\n",
    "                years_res.append(year)\n",
    "                leagues_res.append(league)\n",
    "                players_res.append(results[results['rank']==1]['player'].iloc[0])\n",
    "                ratio_res.append(results[results['rank']==1]['ratio'].iloc[0])\n",
    "                goals.append(results[results['rank']==1]['trueGoals'].iloc[0])\n",
    "    return years_res, leagues_res, players_res, ratio_res, goals"
   ]
  },
  {
   "cell_type": "code",
   "execution_count": 57,
   "id": "cf16db62",
   "metadata": {},
   "outputs": [
    {
     "data": {
      "text/html": [
       "<div>\n",
       "<style scoped>\n",
       "    .dataframe tbody tr th:only-of-type {\n",
       "        vertical-align: middle;\n",
       "    }\n",
       "\n",
       "    .dataframe tbody tr th {\n",
       "        vertical-align: top;\n",
       "    }\n",
       "\n",
       "    .dataframe thead th {\n",
       "        text-align: right;\n",
       "    }\n",
       "</style>\n",
       "<table border=\"1\" class=\"dataframe\">\n",
       "  <thead>\n",
       "    <tr style=\"text-align: right;\">\n",
       "      <th></th>\n",
       "      <th>League</th>\n",
       "      <th>Year</th>\n",
       "      <th>bestFinisher</th>\n",
       "      <th>Goals</th>\n",
       "      <th>Goals/xGoals Ratio</th>\n",
       "    </tr>\n",
       "  </thead>\n",
       "  <tbody>\n",
       "    <tr>\n",
       "      <th>0</th>\n",
       "      <td>France</td>\n",
       "      <td>2011</td>\n",
       "      <td>Olivier Giroud</td>\n",
       "      <td>13</td>\n",
       "      <td>1.25</td>\n",
       "    </tr>\n",
       "    <tr>\n",
       "      <th>1</th>\n",
       "      <td>France</td>\n",
       "      <td>2012</td>\n",
       "      <td>Zlatan Ibrahimovic</td>\n",
       "      <td>18</td>\n",
       "      <td>1.47</td>\n",
       "    </tr>\n",
       "    <tr>\n",
       "      <th>2</th>\n",
       "      <td>France</td>\n",
       "      <td>2013</td>\n",
       "      <td>Dario Cvitanich</td>\n",
       "      <td>16</td>\n",
       "      <td>1.70</td>\n",
       "    </tr>\n",
       "    <tr>\n",
       "      <th>3</th>\n",
       "      <td>France</td>\n",
       "      <td>2014</td>\n",
       "      <td>Cheick Diabate</td>\n",
       "      <td>13</td>\n",
       "      <td>1.61</td>\n",
       "    </tr>\n",
       "    <tr>\n",
       "      <th>4</th>\n",
       "      <td>France</td>\n",
       "      <td>2015</td>\n",
       "      <td>Benjamin Moukandjo</td>\n",
       "      <td>13</td>\n",
       "      <td>1.69</td>\n",
       "    </tr>\n",
       "    <tr>\n",
       "      <th>5</th>\n",
       "      <td>France</td>\n",
       "      <td>2016</td>\n",
       "      <td>Zlatan Ibrahimovic</td>\n",
       "      <td>21</td>\n",
       "      <td>2.27</td>\n",
       "    </tr>\n",
       "    <tr>\n",
       "      <th>6</th>\n",
       "      <td>Germany</td>\n",
       "      <td>2011</td>\n",
       "      <td>Klaasjan Huntelaar</td>\n",
       "      <td>15</td>\n",
       "      <td>1.81</td>\n",
       "    </tr>\n",
       "    <tr>\n",
       "      <th>7</th>\n",
       "      <td>Germany</td>\n",
       "      <td>2012</td>\n",
       "      <td>Martin Harnik</td>\n",
       "      <td>15</td>\n",
       "      <td>1.79</td>\n",
       "    </tr>\n",
       "    <tr>\n",
       "      <th>8</th>\n",
       "      <td>Germany</td>\n",
       "      <td>2013</td>\n",
       "      <td>Ivica Olic</td>\n",
       "      <td>13</td>\n",
       "      <td>2.23</td>\n",
       "    </tr>\n",
       "    <tr>\n",
       "      <th>9</th>\n",
       "      <td>Germany</td>\n",
       "      <td>2014</td>\n",
       "      <td>Josip Drmic</td>\n",
       "      <td>14</td>\n",
       "      <td>2.03</td>\n",
       "    </tr>\n",
       "    <tr>\n",
       "      <th>10</th>\n",
       "      <td>Germany</td>\n",
       "      <td>2015</td>\n",
       "      <td>Raffael</td>\n",
       "      <td>15</td>\n",
       "      <td>1.80</td>\n",
       "    </tr>\n",
       "    <tr>\n",
       "      <th>11</th>\n",
       "      <td>Germany</td>\n",
       "      <td>2016</td>\n",
       "      <td>Pierreemerick Aubameyang</td>\n",
       "      <td>23</td>\n",
       "      <td>1.34</td>\n",
       "    </tr>\n",
       "    <tr>\n",
       "      <th>12</th>\n",
       "      <td>Italy</td>\n",
       "      <td>2012</td>\n",
       "      <td>Miroslav Klose</td>\n",
       "      <td>14</td>\n",
       "      <td>2.02</td>\n",
       "    </tr>\n",
       "    <tr>\n",
       "      <th>13</th>\n",
       "      <td>Italy</td>\n",
       "      <td>2013</td>\n",
       "      <td>Luis Muriel</td>\n",
       "      <td>13</td>\n",
       "      <td>1.62</td>\n",
       "    </tr>\n",
       "    <tr>\n",
       "      <th>14</th>\n",
       "      <td>Italy</td>\n",
       "      <td>2014</td>\n",
       "      <td>Ciro Immobile</td>\n",
       "      <td>14</td>\n",
       "      <td>1.75</td>\n",
       "    </tr>\n",
       "    <tr>\n",
       "      <th>15</th>\n",
       "      <td>Italy</td>\n",
       "      <td>2015</td>\n",
       "      <td>Massimo Maccarone</td>\n",
       "      <td>15</td>\n",
       "      <td>1.79</td>\n",
       "    </tr>\n",
       "    <tr>\n",
       "      <th>16</th>\n",
       "      <td>Italy</td>\n",
       "      <td>2016</td>\n",
       "      <td>Dries Mertens</td>\n",
       "      <td>15</td>\n",
       "      <td>1.78</td>\n",
       "    </tr>\n",
       "    <tr>\n",
       "      <th>17</th>\n",
       "      <td>Spain</td>\n",
       "      <td>2011</td>\n",
       "      <td>Lionel Messi</td>\n",
       "      <td>17</td>\n",
       "      <td>1.55</td>\n",
       "    </tr>\n",
       "    <tr>\n",
       "      <th>18</th>\n",
       "      <td>Spain</td>\n",
       "      <td>2012</td>\n",
       "      <td>Lionel Messi</td>\n",
       "      <td>59</td>\n",
       "      <td>1.58</td>\n",
       "    </tr>\n",
       "    <tr>\n",
       "      <th>19</th>\n",
       "      <td>Spain</td>\n",
       "      <td>2013</td>\n",
       "      <td>Pedro</td>\n",
       "      <td>16</td>\n",
       "      <td>2.01</td>\n",
       "    </tr>\n",
       "    <tr>\n",
       "      <th>20</th>\n",
       "      <td>Spain</td>\n",
       "      <td>2014</td>\n",
       "      <td>Cristiano Ronaldo</td>\n",
       "      <td>34</td>\n",
       "      <td>1.59</td>\n",
       "    </tr>\n",
       "    <tr>\n",
       "      <th>21</th>\n",
       "      <td>Spain</td>\n",
       "      <td>2015</td>\n",
       "      <td>Antoine Griezmann</td>\n",
       "      <td>25</td>\n",
       "      <td>1.75</td>\n",
       "    </tr>\n",
       "    <tr>\n",
       "      <th>22</th>\n",
       "      <td>Spain</td>\n",
       "      <td>2016</td>\n",
       "      <td>Gareth Bale</td>\n",
       "      <td>16</td>\n",
       "      <td>1.82</td>\n",
       "    </tr>\n",
       "    <tr>\n",
       "      <th>23</th>\n",
       "      <td>England</td>\n",
       "      <td>2013</td>\n",
       "      <td>Luis Suarez</td>\n",
       "      <td>16</td>\n",
       "      <td>1.64</td>\n",
       "    </tr>\n",
       "    <tr>\n",
       "      <th>24</th>\n",
       "      <td>England</td>\n",
       "      <td>2014</td>\n",
       "      <td>Christian Eriksen</td>\n",
       "      <td>13</td>\n",
       "      <td>1.86</td>\n",
       "    </tr>\n",
       "    <tr>\n",
       "      <th>25</th>\n",
       "      <td>England</td>\n",
       "      <td>2015</td>\n",
       "      <td>Odion Ighalo</td>\n",
       "      <td>14</td>\n",
       "      <td>1.73</td>\n",
       "    </tr>\n",
       "    <tr>\n",
       "      <th>26</th>\n",
       "      <td>England</td>\n",
       "      <td>2016</td>\n",
       "      <td>Eden Hazard</td>\n",
       "      <td>13</td>\n",
       "      <td>1.77</td>\n",
       "    </tr>\n",
       "  </tbody>\n",
       "</table>\n",
       "</div>"
      ],
      "text/plain": [
       "     League  Year              bestFinisher  Goals  Goals/xGoals Ratio\n",
       "0    France  2011            Olivier Giroud     13                1.25\n",
       "1    France  2012        Zlatan Ibrahimovic     18                1.47\n",
       "2    France  2013           Dario Cvitanich     16                1.70\n",
       "3    France  2014            Cheick Diabate     13                1.61\n",
       "4    France  2015        Benjamin Moukandjo     13                1.69\n",
       "5    France  2016        Zlatan Ibrahimovic     21                2.27\n",
       "6   Germany  2011        Klaasjan Huntelaar     15                1.81\n",
       "7   Germany  2012             Martin Harnik     15                1.79\n",
       "8   Germany  2013                Ivica Olic     13                2.23\n",
       "9   Germany  2014               Josip Drmic     14                2.03\n",
       "10  Germany  2015                   Raffael     15                1.80\n",
       "11  Germany  2016  Pierreemerick Aubameyang     23                1.34\n",
       "12    Italy  2012            Miroslav Klose     14                2.02\n",
       "13    Italy  2013               Luis Muriel     13                1.62\n",
       "14    Italy  2014             Ciro Immobile     14                1.75\n",
       "15    Italy  2015         Massimo Maccarone     15                1.79\n",
       "16    Italy  2016             Dries Mertens     15                1.78\n",
       "17    Spain  2011              Lionel Messi     17                1.55\n",
       "18    Spain  2012              Lionel Messi     59                1.58\n",
       "19    Spain  2013                     Pedro     16                2.01\n",
       "20    Spain  2014         Cristiano Ronaldo     34                1.59\n",
       "21    Spain  2015         Antoine Griezmann     25                1.75\n",
       "22    Spain  2016               Gareth Bale     16                1.82\n",
       "23  England  2013               Luis Suarez     16                1.64\n",
       "24  England  2014         Christian Eriksen     13                1.86\n",
       "25  England  2015              Odion Ighalo     14                1.73\n",
       "26  England  2016               Eden Hazard     13                1.77"
      ]
     },
     "execution_count": 57,
     "metadata": {},
     "output_type": "execute_result"
    }
   ],
   "source": [
    "years, leagues, players_res, ratio, goals = best_finishers_per_year(years = players_per_year.year.unique(), leagues=players_per_year.country.unique(),\\\n",
    "                       min_goals=12, df=players_per_year)\n",
    "results_perYear = pd.DataFrame()\n",
    "results_perYear['League']=leagues\n",
    "results_perYear['Year']=years\n",
    "results_perYear['bestFinisher']=players_res\n",
    "results_perYear['Goals']=goals\n",
    "results_perYear['Goals/xGoals Ratio']=ratio\n",
    "results_perYear"
   ]
  },
  {
   "cell_type": "markdown",
   "id": "d083b6d6",
   "metadata": {},
   "source": [
    "**Худшие бомбардиры**"
   ]
  },
  {
   "cell_type": "code",
   "execution_count": 62,
   "id": "4dc0a15d",
   "metadata": {},
   "outputs": [
    {
     "data": {
      "text/html": [
       "<div>\n",
       "<style scoped>\n",
       "    .dataframe tbody tr th:only-of-type {\n",
       "        vertical-align: middle;\n",
       "    }\n",
       "\n",
       "    .dataframe tbody tr th {\n",
       "        vertical-align: top;\n",
       "    }\n",
       "\n",
       "    .dataframe thead th {\n",
       "        text-align: right;\n",
       "    }\n",
       "</style>\n",
       "<table border=\"1\" class=\"dataframe\">\n",
       "  <thead>\n",
       "    <tr style=\"text-align: right;\">\n",
       "      <th></th>\n",
       "      <th>rank</th>\n",
       "      <th>player</th>\n",
       "      <th>difference</th>\n",
       "      <th>trueGoals</th>\n",
       "      <th>expectedGoals</th>\n",
       "    </tr>\n",
       "  </thead>\n",
       "  <tbody>\n",
       "    <tr>\n",
       "      <th>4777</th>\n",
       "      <td>4778</td>\n",
       "      <td>Riccardo Meggiorini</td>\n",
       "      <td>7.91</td>\n",
       "      <td>15</td>\n",
       "      <td>22.91</td>\n",
       "    </tr>\n",
       "    <tr>\n",
       "      <th>4778</th>\n",
       "      <td>4779</td>\n",
       "      <td>Diego Godin</td>\n",
       "      <td>7.92</td>\n",
       "      <td>12</td>\n",
       "      <td>19.92</td>\n",
       "    </tr>\n",
       "    <tr>\n",
       "      <th>4779</th>\n",
       "      <td>4780</td>\n",
       "      <td>Roberto Trashorras</td>\n",
       "      <td>7.96</td>\n",
       "      <td>6</td>\n",
       "      <td>13.96</td>\n",
       "    </tr>\n",
       "  </tbody>\n",
       "</table>\n",
       "</div>"
      ],
      "text/plain": [
       "      rank               player  difference  trueGoals  expectedGoals\n",
       "4777  4778  Riccardo Meggiorini        7.91         15          22.91\n",
       "4778  4779          Diego Godin        7.92         12          19.92\n",
       "4779  4780   Roberto Trashorras        7.96          6          13.96"
      ]
     },
     "execution_count": 62,
     "metadata": {},
     "output_type": "execute_result"
    }
   ],
   "source": [
    "show = players.sort_values(['difference', 'trueGoals']).reset_index(drop=True)\n",
    "show['rank'] = show.index+1\n",
    "show = show[['rank', 'player', 'difference', 'trueGoals', 'expectedGoals']].tail(10)\n",
    "show.tail(3)"
   ]
  },
  {
   "cell_type": "code",
   "execution_count": 63,
   "id": "3b4788d7",
   "metadata": {},
   "outputs": [
    {
     "data": {
      "text/html": [
       "<div>\n",
       "<style scoped>\n",
       "    .dataframe tbody tr th:only-of-type {\n",
       "        vertical-align: middle;\n",
       "    }\n",
       "\n",
       "    .dataframe tbody tr th {\n",
       "        vertical-align: top;\n",
       "    }\n",
       "\n",
       "    .dataframe thead th {\n",
       "        text-align: right;\n",
       "    }\n",
       "</style>\n",
       "<table border=\"1\" class=\"dataframe\">\n",
       "  <thead>\n",
       "    <tr style=\"text-align: right;\">\n",
       "      <th></th>\n",
       "      <th>rank</th>\n",
       "      <th>player</th>\n",
       "      <th>ratio</th>\n",
       "      <th>trueGoals</th>\n",
       "      <th>expectedGoals</th>\n",
       "    </tr>\n",
       "  </thead>\n",
       "  <tbody>\n",
       "    <tr>\n",
       "      <th>140</th>\n",
       "      <td>141</td>\n",
       "      <td>Giampaolo Pazzini</td>\n",
       "      <td>0.781447</td>\n",
       "      <td>31</td>\n",
       "      <td>39.67</td>\n",
       "    </tr>\n",
       "    <tr>\n",
       "      <th>139</th>\n",
       "      <td>140</td>\n",
       "      <td>Mario Balotelli</td>\n",
       "      <td>0.812091</td>\n",
       "      <td>36</td>\n",
       "      <td>44.33</td>\n",
       "    </tr>\n",
       "    <tr>\n",
       "      <th>138</th>\n",
       "      <td>139</td>\n",
       "      <td>Gonzalo Bergessio</td>\n",
       "      <td>0.843767</td>\n",
       "      <td>31</td>\n",
       "      <td>36.74</td>\n",
       "    </tr>\n",
       "  </tbody>\n",
       "</table>\n",
       "</div>"
      ],
      "text/plain": [
       "     rank             player     ratio  trueGoals  expectedGoals\n",
       "140   141  Giampaolo Pazzini  0.781447         31          39.67\n",
       "139   140    Mario Balotelli  0.812091         36          44.33\n",
       "138   139  Gonzalo Bergessio  0.843767         31          36.74"
      ]
     },
     "execution_count": 63,
     "metadata": {},
     "output_type": "execute_result"
    }
   ],
   "source": [
    "show = players[players['trueGoals']>30].sort_values(['ratio', 'trueGoals'], ascending=False).reset_index(drop=True)\n",
    "show['rank'] = show.index+1\n",
    "show = show.sort_values(by='rank', ascending=False)\n",
    "show = show[['rank', 'player', 'ratio', 'trueGoals', 'expectedGoals']].head(10)\n",
    "show.head(3)"
   ]
  },
  {
   "cell_type": "code",
   "execution_count": 66,
   "id": "f40abe6d",
   "metadata": {},
   "outputs": [
    {
     "data": {
      "image/png": "[encoded data removed]",
      "text/plain": [
       "<Figure size 864x360 with 1 Axes>"
      ]
     },
     "metadata": {},
     "output_type": "display_data"
    }
   ],
   "source": [
    "sns.set_style(\"dark\")\n",
    "fig, ax = plt.subplots(figsize=[12,5])\n",
    "ax = sns.barplot(x=show['ratio'], y=show['player'], palette='viridis', alpha=0.9)\n",
    "ax.set_xticks(np.arange(0,1.9,0.2))\n",
    "ax.set_xlabel(xlabel='Голы забиты на один xG модели', fontsize=12)\n",
    "ax.set_ylabel(ylabel='')\n",
    "ax.set_yticklabels(labels=ax.get_yticklabels(), fontsize=12)\n",
    "plt.title(\"Худшие бомбардиры: goals/xGoals\", fontsize=22, fontfamily='serif')\n",
    "ax.grid(color='black', linestyle='-', linewidth=0.1, axis='x')\n",
    "plt.show()"
   ]
  },
  {
   "cell_type": "markdown",
   "id": "2cc3822e",
   "metadata": {},
   "source": [
    "Среди прочих мы находим таких игроков, как Марио Балотелли, Джампаоло Паццини или Эдин Джеко, которые забили намного меньше голов, чем должны были. Джампаоло Паццини фактически находится в обоих списках (общая абсолютная разница в голах и соотношение trueGoals/xGoals).\n",
    "\n",
    "Интересно посмотреть на игроков, забивших гораздо меньше голов, чем ожидалось. Это как бы говорит нам о том, что эти игроки упустили слишком много моментов и должны улучшить свою стрельбу. Но это также означает, что они создавали намного больше голевых моментов, чем то, о чем говорит нам самая распространенная статистика (например, голы). Так что в этом смысле они недооценены."
   ]
  },
  {
   "cell_type": "markdown",
   "id": "285e88b7",
   "metadata": {},
   "source": [
    "**Какие игроки делают лучшие/самые опасные передачи?**"
   ]
  },
  {
   "cell_type": "markdown",
   "id": "e1aaab9b",
   "metadata": {},
   "source": [
    "Глядя на игрока, совершившего передачу перед ударом, мы можем оценить, сколько xG игрок создал за счет своей передачи."
   ]
  },
  {
   "cell_type": "code",
   "execution_count": 68,
   "id": "915cb315",
   "metadata": {},
   "outputs": [
    {
     "data": {
      "text/html": [
       "<div>\n",
       "<style scoped>\n",
       "    .dataframe tbody tr th:only-of-type {\n",
       "        vertical-align: middle;\n",
       "    }\n",
       "\n",
       "    .dataframe tbody tr th {\n",
       "        vertical-align: top;\n",
       "    }\n",
       "\n",
       "    .dataframe thead th {\n",
       "        text-align: right;\n",
       "    }\n",
       "</style>\n",
       "<table border=\"1\" class=\"dataframe\">\n",
       "  <thead>\n",
       "    <tr style=\"text-align: right;\">\n",
       "      <th></th>\n",
       "      <th>rank</th>\n",
       "      <th>player</th>\n",
       "      <th>n_passes</th>\n",
       "      <th>trueGoals_created</th>\n",
       "      <th>expectedGoals_created</th>\n",
       "    </tr>\n",
       "  </thead>\n",
       "  <tbody>\n",
       "    <tr>\n",
       "      <th>0</th>\n",
       "      <td>1</td>\n",
       "      <td>Lionel Messi</td>\n",
       "      <td>350</td>\n",
       "      <td>68</td>\n",
       "      <td>51.293988</td>\n",
       "    </tr>\n",
       "    <tr>\n",
       "      <th>1</th>\n",
       "      <td>2</td>\n",
       "      <td>Mesut Ozil</td>\n",
       "      <td>343</td>\n",
       "      <td>35</td>\n",
       "      <td>36.678917</td>\n",
       "    </tr>\n",
       "    <tr>\n",
       "      <th>2</th>\n",
       "      <td>3</td>\n",
       "      <td>Zlatan Ibrahimovic</td>\n",
       "      <td>270</td>\n",
       "      <td>36</td>\n",
       "      <td>36.201551</td>\n",
       "    </tr>\n",
       "    <tr>\n",
       "      <th>3</th>\n",
       "      <td>4</td>\n",
       "      <td>Cesc Fabregas</td>\n",
       "      <td>264</td>\n",
       "      <td>53</td>\n",
       "      <td>36.171798</td>\n",
       "    </tr>\n",
       "    <tr>\n",
       "      <th>4</th>\n",
       "      <td>5</td>\n",
       "      <td>Marek Hamsik</td>\n",
       "      <td>370</td>\n",
       "      <td>50</td>\n",
       "      <td>34.972683</td>\n",
       "    </tr>\n",
       "  </tbody>\n",
       "</table>\n",
       "</div>"
      ],
      "text/plain": [
       "   rank              player  n_passes  trueGoals_created  \\\n",
       "0     1        Lionel Messi       350                 68   \n",
       "1     2          Mesut Ozil       343                 35   \n",
       "2     3  Zlatan Ibrahimovic       270                 36   \n",
       "3     4       Cesc Fabregas       264                 53   \n",
       "4     5        Marek Hamsik       370                 50   \n",
       "\n",
       "   expectedGoals_created  \n",
       "0              51.293988  \n",
       "1              36.678917  \n",
       "2              36.201551  \n",
       "3              36.171798  \n",
       "4              34.972683  "
      ]
     },
     "execution_count": 68,
     "metadata": {},
     "output_type": "execute_result"
    }
   ],
   "source": [
    "passing = shots[shots.assist_method.isin([1,4])]\n",
    "passing_players = passing.groupby('player2').sum().reset_index()\n",
    "passing_players.rename(columns={'player2': 'player', 'event_type': 'n_passes', 'is_goal': 'trueGoals_created', 'prediction': 'expectedGoals_created'}, inplace=True)\n",
    "show = passing_players.sort_values('expectedGoals_created', ascending=False).reset_index(drop=True)\n",
    "show['rank'] = show.index+1\n",
    "show[['rank', 'player', 'n_passes', 'trueGoals_created', 'expectedGoals_created']].head(5)"
   ]
  },
  {
   "cell_type": "markdown",
   "id": "41efc65a",
   "metadata": {},
   "source": [
    "Это становится немного скучно, но мы снова видим Месси на вершине. В этом случае он является игроком, который создал наиболее ожидаемые голы для своих товарищей по команде за 7 лет наших данных.\n",
    "\n",
    "Теперь мы можем вместо этого посмотреть на среднее значение xG этих передач, чтобы увидеть, кто из игроков пытается выполнить наиболее опасный пас."
   ]
  },
  {
   "cell_type": "code",
   "execution_count": 69,
   "id": "cb384fc3",
   "metadata": {},
   "outputs": [
    {
     "data": {
      "text/html": [
       "<div>\n",
       "<style scoped>\n",
       "    .dataframe tbody tr th:only-of-type {\n",
       "        vertical-align: middle;\n",
       "    }\n",
       "\n",
       "    .dataframe tbody tr th {\n",
       "        vertical-align: top;\n",
       "    }\n",
       "\n",
       "    .dataframe thead th {\n",
       "        text-align: right;\n",
       "    }\n",
       "</style>\n",
       "<table border=\"1\" class=\"dataframe\">\n",
       "  <thead>\n",
       "    <tr style=\"text-align: right;\">\n",
       "      <th></th>\n",
       "      <th>rank</th>\n",
       "      <th>player</th>\n",
       "      <th>n_passes</th>\n",
       "      <th>xG_perpass</th>\n",
       "    </tr>\n",
       "  </thead>\n",
       "  <tbody>\n",
       "    <tr>\n",
       "      <th>0</th>\n",
       "      <td>1</td>\n",
       "      <td>Luis Suarez</td>\n",
       "      <td>185</td>\n",
       "      <td>0.164791</td>\n",
       "    </tr>\n",
       "    <tr>\n",
       "      <th>1</th>\n",
       "      <td>2</td>\n",
       "      <td>Gareth Bale</td>\n",
       "      <td>109</td>\n",
       "      <td>0.156703</td>\n",
       "    </tr>\n",
       "    <tr>\n",
       "      <th>2</th>\n",
       "      <td>3</td>\n",
       "      <td>Angel Di Maria</td>\n",
       "      <td>211</td>\n",
       "      <td>0.150858</td>\n",
       "    </tr>\n",
       "    <tr>\n",
       "      <th>3</th>\n",
       "      <td>4</td>\n",
       "      <td>Raul Garcia</td>\n",
       "      <td>90</td>\n",
       "      <td>0.149844</td>\n",
       "    </tr>\n",
       "    <tr>\n",
       "      <th>4</th>\n",
       "      <td>5</td>\n",
       "      <td>Lionel Messi</td>\n",
       "      <td>350</td>\n",
       "      <td>0.146554</td>\n",
       "    </tr>\n",
       "  </tbody>\n",
       "</table>\n",
       "</div>"
      ],
      "text/plain": [
       "   rank          player  n_passes  xG_perpass\n",
       "0     1     Luis Suarez       185    0.164791\n",
       "1     2     Gareth Bale       109    0.156703\n",
       "2     3  Angel Di Maria       211    0.150858\n",
       "3     4     Raul Garcia        90    0.149844\n",
       "4     5    Lionel Messi       350    0.146554"
      ]
     },
     "execution_count": 69,
     "metadata": {},
     "output_type": "execute_result"
    }
   ],
   "source": [
    "show['xG_perpass'] = show['expectedGoals_created'] / show['n_passes']\n",
    "show = show[show['n_passes']>80].sort_values('xG_perpass', ascending=False).reset_index(drop=True)\n",
    "show['rank'] = show.index+1\n",
    "show = show[['rank', 'player', 'n_passes', 'xG_perpass']].head(10)\n",
    "show.head(5)"
   ]
  },
  {
   "cell_type": "code",
   "execution_count": 71,
   "id": "ffe7a95d",
   "metadata": {},
   "outputs": [
    {
     "data": {
      "image/png": "[encoded data removed]",
      "text/plain": [
       "<Figure size 1008x432 with 1 Axes>"
      ]
     },
     "metadata": {},
     "output_type": "display_data"
    }
   ],
   "source": [
    "sns.set_style(\"dark\")\n",
    "fig, ax = plt.subplots(figsize=[14,6])\n",
    "ax = sns.barplot(x=show['xG_perpass'], y=show['player'], palette='viridis', alpha=0.9)\n",
    "ax.set_xticks(np.arange(0,0.2,0.01))\n",
    "ax.set_xlabel(xlabel='xG через ключевую передачу', fontsize=14)\n",
    "ax.set_ylabel(ylabel='')\n",
    "ax.set_yticklabels(labels=ax.get_yticklabels(), fontsize=12)\n",
    "plt.title(\"Самые опасные передачи отдают\", fontsize=22, fontfamily='serif')\n",
    "ax.grid(color='black', linestyle='-', linewidth=0.1, axis='x')\n",
    "plt.show()"
   ]
  },
  {
   "cell_type": "markdown",
   "id": "d051c985",
   "metadata": {},
   "source": [
    "Мы можем видеть Луиса Суареса, Ди Марию и Гарета Бэйла среди игроков, которые в среднем делают самые опасные передачи, измеряемые ожидаемой ценностью голов при последующем ударе."
   ]
  },
  {
   "cell_type": "markdown",
   "id": "7f21c97c",
   "metadata": {},
   "source": [
    "**Каким игрокам больше всего не везет при передаче мяча?**"
   ]
  },
  {
   "cell_type": "markdown",
   "id": "a3e6cbb1",
   "metadata": {},
   "source": [
    "Мы также можем увидеть, кому больше всего не везет в пасах. Т.е., у кого наибольшая разница между ожидаемым количеством голов в результате их пасов и количеством голов, забитых ими на самом деле. Я говорю «не повезло», потому что, в отличие от игрока, который делает бросок, этот другой игрок не несет ответственности за то, смогли ли его партнеры по команде забить после его отличной передачи или нет!"
   ]
  },
  {
   "cell_type": "code",
   "execution_count": 77,
   "id": "5692a64a",
   "metadata": {},
   "outputs": [
    {
     "data": {
      "text/html": [
       "<div>\n",
       "<style scoped>\n",
       "    .dataframe tbody tr th:only-of-type {\n",
       "        vertical-align: middle;\n",
       "    }\n",
       "\n",
       "    .dataframe tbody tr th {\n",
       "        vertical-align: top;\n",
       "    }\n",
       "\n",
       "    .dataframe thead th {\n",
       "        text-align: right;\n",
       "    }\n",
       "</style>\n",
       "<table border=\"1\" class=\"dataframe\">\n",
       "  <thead>\n",
       "    <tr style=\"text-align: right;\">\n",
       "      <th></th>\n",
       "      <th>rank</th>\n",
       "      <th>player</th>\n",
       "      <th>n_passes</th>\n",
       "      <th>trueGoals_created</th>\n",
       "      <th>expectedGoals_created</th>\n",
       "      <th>difference</th>\n",
       "    </tr>\n",
       "  </thead>\n",
       "  <tbody>\n",
       "    <tr>\n",
       "      <th>0</th>\n",
       "      <td>1</td>\n",
       "      <td>Joan Verdu</td>\n",
       "      <td>134</td>\n",
       "      <td>7</td>\n",
       "      <td>14.585246</td>\n",
       "      <td>7.585246</td>\n",
       "    </tr>\n",
       "    <tr>\n",
       "      <th>1</th>\n",
       "      <td>2</td>\n",
       "      <td>Xabi Prieto</td>\n",
       "      <td>152</td>\n",
       "      <td>6</td>\n",
       "      <td>13.303372</td>\n",
       "      <td>7.303372</td>\n",
       "    </tr>\n",
       "    <tr>\n",
       "      <th>2</th>\n",
       "      <td>3</td>\n",
       "      <td>Philippe Coutinho</td>\n",
       "      <td>177</td>\n",
       "      <td>13</td>\n",
       "      <td>19.941539</td>\n",
       "      <td>6.941539</td>\n",
       "    </tr>\n",
       "    <tr>\n",
       "      <th>3</th>\n",
       "      <td>4</td>\n",
       "      <td>Luca Cigarini</td>\n",
       "      <td>164</td>\n",
       "      <td>6</td>\n",
       "      <td>12.919044</td>\n",
       "      <td>6.919044</td>\n",
       "    </tr>\n",
       "    <tr>\n",
       "      <th>4</th>\n",
       "      <td>5</td>\n",
       "      <td>Alejandro Gomez</td>\n",
       "      <td>137</td>\n",
       "      <td>5</td>\n",
       "      <td>11.717980</td>\n",
       "      <td>6.717980</td>\n",
       "    </tr>\n",
       "    <tr>\n",
       "      <th>5</th>\n",
       "      <td>6</td>\n",
       "      <td>Antonio Di Natale</td>\n",
       "      <td>136</td>\n",
       "      <td>7</td>\n",
       "      <td>13.189828</td>\n",
       "      <td>6.189828</td>\n",
       "    </tr>\n",
       "    <tr>\n",
       "      <th>6</th>\n",
       "      <td>7</td>\n",
       "      <td>Victor Ibarbo</td>\n",
       "      <td>116</td>\n",
       "      <td>6</td>\n",
       "      <td>12.116226</td>\n",
       "      <td>6.116226</td>\n",
       "    </tr>\n",
       "    <tr>\n",
       "      <th>7</th>\n",
       "      <td>8</td>\n",
       "      <td>Nolito</td>\n",
       "      <td>179</td>\n",
       "      <td>18</td>\n",
       "      <td>23.884351</td>\n",
       "      <td>5.884351</td>\n",
       "    </tr>\n",
       "    <tr>\n",
       "      <th>8</th>\n",
       "      <td>9</td>\n",
       "      <td>Mariano</td>\n",
       "      <td>100</td>\n",
       "      <td>2</td>\n",
       "      <td>7.779896</td>\n",
       "      <td>5.779896</td>\n",
       "    </tr>\n",
       "    <tr>\n",
       "      <th>9</th>\n",
       "      <td>10</td>\n",
       "      <td>Ever Banega</td>\n",
       "      <td>147</td>\n",
       "      <td>8</td>\n",
       "      <td>13.556179</td>\n",
       "      <td>5.556179</td>\n",
       "    </tr>\n",
       "    <tr>\n",
       "      <th>10</th>\n",
       "      <td>11</td>\n",
       "      <td>Alvaro Negredo</td>\n",
       "      <td>109</td>\n",
       "      <td>9</td>\n",
       "      <td>14.394063</td>\n",
       "      <td>5.394063</td>\n",
       "    </tr>\n",
       "    <tr>\n",
       "      <th>11</th>\n",
       "      <td>12</td>\n",
       "      <td>Ezequiel Schelotto</td>\n",
       "      <td>65</td>\n",
       "      <td>2</td>\n",
       "      <td>7.387281</td>\n",
       "      <td>5.387281</td>\n",
       "    </tr>\n",
       "    <tr>\n",
       "      <th>12</th>\n",
       "      <td>13</td>\n",
       "      <td>Jorginho</td>\n",
       "      <td>91</td>\n",
       "      <td>1</td>\n",
       "      <td>6.270795</td>\n",
       "      <td>5.270795</td>\n",
       "    </tr>\n",
       "    <tr>\n",
       "      <th>13</th>\n",
       "      <td>14</td>\n",
       "      <td>Hernanes</td>\n",
       "      <td>139</td>\n",
       "      <td>6</td>\n",
       "      <td>11.056569</td>\n",
       "      <td>5.056569</td>\n",
       "    </tr>\n",
       "    <tr>\n",
       "      <th>14</th>\n",
       "      <td>15</td>\n",
       "      <td>Filip Kostic</td>\n",
       "      <td>57</td>\n",
       "      <td>6</td>\n",
       "      <td>11.056527</td>\n",
       "      <td>5.056527</td>\n",
       "    </tr>\n",
       "    <tr>\n",
       "      <th>15</th>\n",
       "      <td>16</td>\n",
       "      <td>Eden Hazard</td>\n",
       "      <td>338</td>\n",
       "      <td>27</td>\n",
       "      <td>31.938248</td>\n",
       "      <td>4.938248</td>\n",
       "    </tr>\n",
       "    <tr>\n",
       "      <th>16</th>\n",
       "      <td>17</td>\n",
       "      <td>Ezequiel Lavezzi</td>\n",
       "      <td>83</td>\n",
       "      <td>5</td>\n",
       "      <td>9.922094</td>\n",
       "      <td>4.922094</td>\n",
       "    </tr>\n",
       "    <tr>\n",
       "      <th>17</th>\n",
       "      <td>18</td>\n",
       "      <td>Nathaniel Clyne</td>\n",
       "      <td>73</td>\n",
       "      <td>1</td>\n",
       "      <td>5.710747</td>\n",
       "      <td>4.710747</td>\n",
       "    </tr>\n",
       "    <tr>\n",
       "      <th>18</th>\n",
       "      <td>19</td>\n",
       "      <td>Florian Thauvin</td>\n",
       "      <td>89</td>\n",
       "      <td>4</td>\n",
       "      <td>8.647721</td>\n",
       "      <td>4.647721</td>\n",
       "    </tr>\n",
       "    <tr>\n",
       "      <th>19</th>\n",
       "      <td>20</td>\n",
       "      <td>Jorge Molina</td>\n",
       "      <td>88</td>\n",
       "      <td>4</td>\n",
       "      <td>8.548585</td>\n",
       "      <td>4.548585</td>\n",
       "    </tr>\n",
       "  </tbody>\n",
       "</table>\n",
       "</div>"
      ],
      "text/plain": [
       "    rank              player  n_passes  trueGoals_created  \\\n",
       "0      1          Joan Verdu       134                  7   \n",
       "1      2         Xabi Prieto       152                  6   \n",
       "2      3   Philippe Coutinho       177                 13   \n",
       "3      4       Luca Cigarini       164                  6   \n",
       "4      5     Alejandro Gomez       137                  5   \n",
       "5      6   Antonio Di Natale       136                  7   \n",
       "6      7       Victor Ibarbo       116                  6   \n",
       "7      8              Nolito       179                 18   \n",
       "8      9             Mariano       100                  2   \n",
       "9     10         Ever Banega       147                  8   \n",
       "10    11      Alvaro Negredo       109                  9   \n",
       "11    12  Ezequiel Schelotto        65                  2   \n",
       "12    13            Jorginho        91                  1   \n",
       "13    14            Hernanes       139                  6   \n",
       "14    15        Filip Kostic        57                  6   \n",
       "15    16         Eden Hazard       338                 27   \n",
       "16    17    Ezequiel Lavezzi        83                  5   \n",
       "17    18     Nathaniel Clyne        73                  1   \n",
       "18    19     Florian Thauvin        89                  4   \n",
       "19    20        Jorge Molina        88                  4   \n",
       "\n",
       "    expectedGoals_created  difference  \n",
       "0               14.585246    7.585246  \n",
       "1               13.303372    7.303372  \n",
       "2               19.941539    6.941539  \n",
       "3               12.919044    6.919044  \n",
       "4               11.717980    6.717980  \n",
       "5               13.189828    6.189828  \n",
       "6               12.116226    6.116226  \n",
       "7               23.884351    5.884351  \n",
       "8                7.779896    5.779896  \n",
       "9               13.556179    5.556179  \n",
       "10              14.394063    5.394063  \n",
       "11               7.387281    5.387281  \n",
       "12               6.270795    5.270795  \n",
       "13              11.056569    5.056569  \n",
       "14              11.056527    5.056527  \n",
       "15              31.938248    4.938248  \n",
       "16               9.922094    4.922094  \n",
       "17               5.710747    4.710747  \n",
       "18               8.647721    4.647721  \n",
       "19               8.548585    4.548585  "
      ]
     },
     "execution_count": 77,
     "metadata": {},
     "output_type": "execute_result"
    }
   ],
   "source": [
    "passing = shots[shots.assist_method.isin([1,4])]\n",
    "passing_players = passing.groupby('player2').sum().reset_index()\n",
    "passing_players.rename(columns={'player2': 'player', 'event_type': 'n_passes', 'is_goal': 'trueGoals_created', 'prediction': 'expectedGoals_created'}, inplace=True)\n",
    "show = passing_players[passing_players['n_passes']>50].sort_values('difference', ascending=False).reset_index(drop=True)\n",
    "show['rank'] = show.index+1\n",
    "show[['rank', 'player', 'n_passes', 'trueGoals_created', 'expectedGoals_created', 'difference']].head(20)"
   ]
  },
  {
   "cell_type": "code",
   "execution_count": 73,
   "id": "d0dacfe4",
   "metadata": {},
   "outputs": [
    {
     "data": {
      "text/html": [
       "<div>\n",
       "<style scoped>\n",
       "    .dataframe tbody tr th:only-of-type {\n",
       "        vertical-align: middle;\n",
       "    }\n",
       "\n",
       "    .dataframe tbody tr th {\n",
       "        vertical-align: top;\n",
       "    }\n",
       "\n",
       "    .dataframe thead th {\n",
       "        text-align: right;\n",
       "    }\n",
       "</style>\n",
       "<table border=\"1\" class=\"dataframe\">\n",
       "  <thead>\n",
       "    <tr style=\"text-align: right;\">\n",
       "      <th></th>\n",
       "      <th>rank</th>\n",
       "      <th>player</th>\n",
       "      <th>n_passes</th>\n",
       "      <th>trueGoals_created</th>\n",
       "      <th>expectedGoals_created</th>\n",
       "      <th>difference</th>\n",
       "    </tr>\n",
       "  </thead>\n",
       "  <tbody>\n",
       "    <tr>\n",
       "      <th>686</th>\n",
       "      <td>687</td>\n",
       "      <td>Marek Hamsik</td>\n",
       "      <td>370</td>\n",
       "      <td>50</td>\n",
       "      <td>34.972683</td>\n",
       "      <td>-15.027317</td>\n",
       "    </tr>\n",
       "    <tr>\n",
       "      <th>687</th>\n",
       "      <td>688</td>\n",
       "      <td>Cristiano Ronaldo</td>\n",
       "      <td>222</td>\n",
       "      <td>45</td>\n",
       "      <td>29.295590</td>\n",
       "      <td>-15.704410</td>\n",
       "    </tr>\n",
       "    <tr>\n",
       "      <th>688</th>\n",
       "      <td>689</td>\n",
       "      <td>Karim Benzema</td>\n",
       "      <td>214</td>\n",
       "      <td>40</td>\n",
       "      <td>23.368029</td>\n",
       "      <td>-16.631971</td>\n",
       "    </tr>\n",
       "    <tr>\n",
       "      <th>689</th>\n",
       "      <td>690</td>\n",
       "      <td>Lionel Messi</td>\n",
       "      <td>350</td>\n",
       "      <td>68</td>\n",
       "      <td>51.293988</td>\n",
       "      <td>-16.706012</td>\n",
       "    </tr>\n",
       "    <tr>\n",
       "      <th>690</th>\n",
       "      <td>691</td>\n",
       "      <td>Cesc Fabregas</td>\n",
       "      <td>264</td>\n",
       "      <td>53</td>\n",
       "      <td>36.171798</td>\n",
       "      <td>-16.828202</td>\n",
       "    </tr>\n",
       "  </tbody>\n",
       "</table>\n",
       "</div>"
      ],
      "text/plain": [
       "     rank             player  n_passes  trueGoals_created  \\\n",
       "686   687       Marek Hamsik       370                 50   \n",
       "687   688  Cristiano Ronaldo       222                 45   \n",
       "688   689      Karim Benzema       214                 40   \n",
       "689   690       Lionel Messi       350                 68   \n",
       "690   691      Cesc Fabregas       264                 53   \n",
       "\n",
       "     expectedGoals_created  difference  \n",
       "686              34.972683  -15.027317  \n",
       "687              29.295590  -15.704410  \n",
       "688              23.368029  -16.631971  \n",
       "689              51.293988  -16.706012  \n",
       "690              36.171798  -16.828202  "
      ]
     },
     "execution_count": 73,
     "metadata": {},
     "output_type": "execute_result"
    }
   ],
   "source": [
    "show[['rank', 'player', 'n_passes', 'trueGoals_created', 'expectedGoals_created', 'difference']].tail(5)"
   ]
  },
  {
   "cell_type": "markdown",
   "id": "0ddb6ef5",
   "metadata": {},
   "source": [
    "Мы видим, что конец списка заполнен игроками из сильнейших команд. Это имеет смысл, так как их товарищи по команде обычно хороши, и поэтому ожидается, что они будут использовать шансы, которые им созданы.\n",
    "\n",
    "В верхней части списка мы также видим некоторых известных невезучих игроков, таких как Филиппе Коутиньо и Эден Азар, которые должны были видеть более высокие цифры в своей статистике ассистов в соответствии с шансами, которые они создали для команды. Это не очень хорошо говорит об их товарищах по команде в «Ливерпуле» или «Челси» с 2011 по 2016 год. Другими словами, если бы их товарищи по команде завершали эти игры хотя бы со средней эффективностью, и Коутиньо, и Азар получили бы больше передач в те сезоны, чем то, что указано в официальной статистике."
   ]
  },
  {
   "cell_type": "markdown",
   "id": "GErABncWSV-B",
   "metadata": {
    "id": "GErABncWSV-B"
   },
   "source": [
    "## 12. Выводы"
   ]
  },
  {
   "cell_type": "markdown",
   "id": "839f8ad1",
   "metadata": {},
   "source": [
    "*Как можно было бы улучшить xG модель*"
   ]
  },
  {
   "cell_type": "markdown",
   "id": "9c31d9bd",
   "metadata": {},
   "source": [
    "Я пробовал разные алгоритмы с разными гиперпараметрами, и результаты не сильно изменились. Но какие дополнительные данные мы могли бы добавить, чтобы улучшить нашу модель? Во-первых, было бы здорово иметь информацию о защищающейся команде. Сколько защитников находится между воротами и игроком с мячом? Какое оборонительное давление выдерживает атакующий игрок? Сколько времени/пространства есть у игрока, чтобы стрелять? Я полагаю, что (количественные) ответы на многие из этих вопросов могли бы дать модели новую интересную информацию, на которой можно основывать свои прогнозы. Кроме того, у нас есть место выстрела, разделенное на 17 различных категорий. Это хорошо, но было бы лучше иметь точные координаты x и y, где находится игрок. Это может привести к большей точности определения местоположения каждого выстрела и, следовательно, к прогнозам модели."
   ]
  },
  {
   "cell_type": "markdown",
   "id": "e7094eab",
   "metadata": {},
   "source": [
    "В ходе этого практического задания были применены способы работы с большими объемами данных и библиотеки для машинного обучения на языке python. Отточены навыки изучения и анализа большого объёма информации."
   ]
  }
 ],
 "metadata": {
  "colab": {
   "collapsed_sections": [
    "51f24c93",
    "57b965b9",
    "GErABncWSV-B"
   ],
   "provenance": []
  },
  "kernelspec": {
   "display_name": "Python 3 (ipykernel)",
   "language": "python",
   "name": "python3"
  },
  "language_info": {
   "codemirror_mode": {
    "name": "ipython",
    "version": 3
   },
   "file_extension": ".py",
   "mimetype": "text/x-python",
   "name": "python",
   "nbconvert_exporter": "python",
   "pygments_lexer": "ipython3",
   "version": "3.9.12"
  },
  "toc": {
   "base_numbering": 1,
   "nav_menu": {},
   "number_sections": true,
   "sideBar": true,
   "skip_h1_title": false,
   "title_cell": "Table of Contents",
   "title_sidebar": "Contents",
   "toc_cell": false,
   "toc_position": {},
   "toc_section_display": true,
   "toc_window_display": true
  }
 },
 "nbformat": 4,
 "nbformat_minor": 5
}
